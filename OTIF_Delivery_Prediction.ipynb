{
 "cells": [
  {
   "cell_type": "code",
   "execution_count": 1,
   "id": "605b2c41",
   "metadata": {},
   "outputs": [],
   "source": [
    "from snowflake.snowpark import Session\n",
    "import warnings; warnings.simplefilter('ignore')\n",
    "import configparser"
   ]
  },
  {
   "cell_type": "code",
   "execution_count": 2,
   "id": "d4551915",
   "metadata": {},
   "outputs": [],
   "source": [
    "# Fosfor ML\n",
    "from fosforml import *\n",
    "from fosforml.constants import MLModelFlavours\n",
    "import requests"
   ]
  },
  {
   "cell_type": "code",
   "execution_count": 3,
   "id": "5ac268f7",
   "metadata": {},
   "outputs": [],
   "source": [
    "#Import all snowflake connection details from template variables.\n",
    "db_user = 'ASHUTOSH'\n",
    "db_password = 'Password@2023'\n",
    "db_account = 'ug94937.us-east4.gcp'\n",
    "db_database =  'RETAIL_DB'\n",
    "db_role = 'ASHUTOSH'\n",
    "db_warehouse = 'FOSFOR_SOLUTIONS_WH'\n",
    "db_schema = 'CPG_SAP_OTIF_SCHEMA'"
   ]
  },
  {
   "cell_type": "code",
   "execution_count": 4,
   "id": "ac94eba7",
   "metadata": {},
   "outputs": [],
   "source": [
    "from snowflake.snowpark.session import Session\n",
    "connection_params = {\n",
    "    'user': db_user,\n",
    "    'password': db_password,\n",
    "    'account': db_account,\n",
    "    'warehouse': db_warehouse,\n",
    "    'database': db_database,\n",
    "    'schema': db_schema,\n",
    "    'role': db_role\n",
    "}\n",
    "session1 = Session.builder.configs(connection_params).create()"
   ]
  },
  {
   "cell_type": "code",
   "execution_count": 5,
   "id": "b1c30566",
   "metadata": {},
   "outputs": [],
   "source": [
    "df = session1.table(\"ENRICHED_ORDER_SHIP\")"
   ]
  },
  {
   "cell_type": "code",
   "execution_count": 6,
   "id": "a67ee42e",
   "metadata": {},
   "outputs": [],
   "source": [
    "df = df.to_pandas()"
   ]
  },
  {
   "cell_type": "code",
   "execution_count": 7,
   "id": "71e7e584",
   "metadata": {},
   "outputs": [
    {
     "data": {
      "text/plain": [
       "(966997, 46)"
      ]
     },
     "execution_count": 7,
     "metadata": {},
     "output_type": "execute_result"
    }
   ],
   "source": [
    "df.shape"
   ]
  },
  {
   "cell_type": "code",
   "execution_count": 8,
   "id": "378ef06b",
   "metadata": {},
   "outputs": [
    {
     "name": "stdout",
     "output_type": "stream",
     "text": [
      "<class 'pandas.core.frame.DataFrame'>\n",
      "RangeIndex: 966997 entries, 0 to 966996\n",
      "Data columns (total 46 columns):\n",
      " #   Column                                Non-Null Count   Dtype  \n",
      "---  ------                                --------------   -----  \n",
      " 0   CUSTOMER_PURCHASE_ORDER_DATE          966997 non-null  object \n",
      " 1   ORDER_ENTRY_DATE                      966997 non-null  object \n",
      " 2   ORDER_REQUIRED_DELIVERY_DATE          966997 non-null  object \n",
      " 3   ORDER_CUSTOMER_REQUEST_DELIVERY_DATE  966997 non-null  object \n",
      " 4   ORDER_PROMISE_DATE                    966997 non-null  object \n",
      " 5   ORDER_FIRST_SHIPMENT_DATE             966997 non-null  object \n",
      " 6   SHIPMENT_ACTUAL_START_DATE            966997 non-null  object \n",
      " 7   ORDER_LINECANCEL_DATE                 966997 non-null  object \n",
      " 8   ITEM_OTQF                             758063 non-null  object \n",
      " 9   ITEM_OTQF_FLAG                        966997 non-null  object \n",
      " 10  ITEM_OTQF_DAYS                        847138 non-null  float64\n",
      " 11  ITEM_ORDERFILL                        856681 non-null  object \n",
      " 12  ITEM_ORDERFILL_FLAG                   966997 non-null  object \n",
      " 13  ITEM_ORDERFILL_DAYS                   957859 non-null  float64\n",
      " 14  ITEM_CUSTOMER                         749640 non-null  object \n",
      " 15  ITEN_CUSTOMER_ORDERFILL_FLAG          966997 non-null  int8   \n",
      " 16  ITEM_CUSTOER_DAYS                     847138 non-null  float64\n",
      " 17  OPEN_ORDER_FLAG                       966997 non-null  object \n",
      " 18  BACK_ORDER_FLAG                       966997 non-null  object \n",
      " 19  CANCEL_FLAG                           966997 non-null  object \n",
      " 20  CUSTOMER_NAME                         966997 non-null  object \n",
      " 21  SHIPMENT_ORIGINATION_FACILITY         966997 non-null  object \n",
      " 22  ORDER_NUMBER                          966997 non-null  int32  \n",
      " 23  PRODUCT_TYPE                          966997 non-null  object \n",
      " 24  PACKAGE_TYPE                          966997 non-null  object \n",
      " 25  PRODUCT_TECHNOLOGY                    966997 non-null  object \n",
      " 26  PRODUCT_SUBTECHNOLOGY                 966997 non-null  object \n",
      " 27  PRODUCT_DESIGN_TYPE                   966997 non-null  object \n",
      " 28  PRODUCT_SIZE                          966997 non-null  object \n",
      " 29  SUB_BRAND                             966997 non-null  object \n",
      " 30  CITY                                  966997 non-null  object \n",
      " 31  OUTLETS                               966997 non-null  object \n",
      " 32  ORDER_QUANTITY                        966997 non-null  int16  \n",
      " 33  QUANTITY_SHIPPED_ORDERFILL            966997 non-null  int16  \n",
      " 34  QUANTITY_SHIPPED_CUSTOMER             966997 non-null  int16  \n",
      " 35  QUANTITY_SHIPPED_OTQF                 966997 non-null  int16  \n",
      " 36  DELIVERED_QUANTITY                    966997 non-null  int16  \n",
      " 37  DELIVERED_QUANTITY_OTQF               966997 non-null  int16  \n",
      " 38  OPEN_QUANTITY                         966997 non-null  int16  \n",
      " 39  BACK_ORDER_QUANTITY                   966997 non-null  int16  \n",
      " 40  CANCEL_QUANTITY                       966997 non-null  int16  \n",
      " 41  REGION                                966997 non-null  object \n",
      " 42  COUNTRY                               966997 non-null  object \n",
      " 43  CHANNEL                               966997 non-null  object \n",
      " 44  SHIPMENT_ORIGINATION_FACILITY_TYPE    966997 non-null  object \n",
      " 45  BRAND                                 966997 non-null  object \n",
      "dtypes: float64(3), int16(9), int32(1), int8(1), object(32)\n",
      "memory usage: 279.4+ MB\n"
     ]
    }
   ],
   "source": [
    "df.info()"
   ]
  },
  {
   "cell_type": "code",
   "execution_count": null,
   "id": "78b6db32",
   "metadata": {},
   "outputs": [],
   "source": []
  },
  {
   "cell_type": "code",
   "execution_count": null,
   "id": "5a07e143",
   "metadata": {},
   "outputs": [],
   "source": []
  },
  {
   "cell_type": "code",
   "execution_count": null,
   "id": "a97acc56",
   "metadata": {},
   "outputs": [],
   "source": []
  },
  {
   "cell_type": "code",
   "execution_count": null,
   "id": "3c5c3ed8",
   "metadata": {},
   "outputs": [],
   "source": []
  },
  {
   "cell_type": "code",
   "execution_count": null,
   "id": "47b778fa",
   "metadata": {},
   "outputs": [],
   "source": []
  },
  {
   "cell_type": "code",
   "execution_count": null,
   "id": "8d48d838",
   "metadata": {},
   "outputs": [],
   "source": []
  },
  {
   "cell_type": "code",
   "execution_count": null,
   "id": "778df286",
   "metadata": {},
   "outputs": [],
   "source": []
  },
  {
   "cell_type": "code",
   "execution_count": null,
   "id": "3072e911",
   "metadata": {},
   "outputs": [],
   "source": []
  },
  {
   "cell_type": "code",
   "execution_count": null,
   "id": "4aa546c8",
   "metadata": {},
   "outputs": [],
   "source": []
  },
  {
   "cell_type": "code",
   "execution_count": null,
   "id": "c351e3f2",
   "metadata": {},
   "outputs": [],
   "source": []
  },
  {
   "cell_type": "code",
   "execution_count": null,
   "id": "197e3cd5",
   "metadata": {},
   "outputs": [],
   "source": []
  },
  {
   "cell_type": "code",
   "execution_count": null,
   "id": "0b83e0ee",
   "metadata": {},
   "outputs": [],
   "source": []
  },
  {
   "cell_type": "code",
   "execution_count": null,
   "id": "576680b8",
   "metadata": {},
   "outputs": [],
   "source": []
  },
  {
   "cell_type": "code",
   "execution_count": null,
   "id": "498ffc0f",
   "metadata": {},
   "outputs": [],
   "source": []
  },
  {
   "cell_type": "code",
   "execution_count": null,
   "id": "e3a050dd",
   "metadata": {},
   "outputs": [],
   "source": []
  },
  {
   "cell_type": "code",
   "execution_count": null,
   "id": "c3182215",
   "metadata": {},
   "outputs": [],
   "source": []
  },
  {
   "cell_type": "code",
   "execution_count": null,
   "id": "eec3b112",
   "metadata": {},
   "outputs": [],
   "source": []
  },
  {
   "cell_type": "code",
   "execution_count": null,
   "id": "ba82ca77",
   "metadata": {},
   "outputs": [],
   "source": []
  },
  {
   "cell_type": "code",
   "execution_count": null,
   "id": "7da31c1a",
   "metadata": {},
   "outputs": [],
   "source": []
  },
  {
   "cell_type": "code",
   "execution_count": null,
   "id": "1b85d420",
   "metadata": {},
   "outputs": [],
   "source": []
  }
 ],
 "metadata": {
  "kernelspec": {
   "display_name": "Python 3",
   "language": "python",
   "name": "python3"
  },
  "language_info": {
   "codemirror_mode": {
    "name": "ipython",
    "version": 3
   },
   "file_extension": ".py",
   "mimetype": "text/x-python",
   "name": "python",
   "nbconvert_exporter": "python",
   "pygments_lexer": "ipython3",
   "version": "3.8.18"
  }
 },
 "nbformat": 4,
 "nbformat_minor": 5
}
