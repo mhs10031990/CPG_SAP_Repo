{
 "cells": [
  {
   "cell_type": "markdown",
   "id": "d5895989",
   "metadata": {},
   "source": [
    "## Use CPG_SAP_Template Customized template to spin this Notebook"
   ]
  },
  {
   "cell_type": "markdown",
   "id": "7620ada1",
   "metadata": {},
   "source": [
    "### Import all Supporting packages"
   ]
  },
  {
   "cell_type": "code",
   "execution_count": 1,
   "id": "a771fa25",
   "metadata": {},
   "outputs": [],
   "source": [
    "from snowflake.snowpark import Session\n",
    "import warnings; warnings.simplefilter('ignore')\n",
    "import configparser"
   ]
  },
  {
   "cell_type": "code",
   "execution_count": 2,
   "id": "04b0579f",
   "metadata": {},
   "outputs": [],
   "source": [
    "# Fosfor ML\n",
    "from fosforml import *\n",
    "from fosforml.constants import MLModelFlavours\n",
    "import requests"
   ]
  },
  {
   "cell_type": "code",
   "execution_count": 42,
   "id": "3fcb8a33",
   "metadata": {},
   "outputs": [],
   "source": [
    "import pandas as pd\n",
    "import numpy as np\n",
    "\n",
    "# Import label encoder \n",
    "from sklearn import preprocessing \n",
    "from sklearn.linear_model import LinearRegression, Lasso, Ridge, ElasticNet\n",
    "from sklearn.model_selection import GridSearchCV\n",
    "from sklearn.tree import DecisionTreeRegressor\n",
    "from sklearn.metrics import mean_squared_error, mean_absolute_error, r2_score\n",
    "from sklearn.model_selection import train_test_split\n",
    "from math import sqrt"
   ]
  },
  {
   "cell_type": "code",
   "execution_count": 4,
   "id": "219eb9d1",
   "metadata": {},
   "outputs": [],
   "source": [
    "#Import all snowflake connection details from template variables.\n",
    "db_user = 'ASHUTOSH'\n",
    "db_password = '**********'\n",
    "db_account = 'ug94937.us-east4.gcp'\n",
    "db_database =  'RETAIL_DB'\n",
    "db_role = 'ASHUTOSH'\n",
    "db_warehouse = 'FOSFOR_SOLUTIONS_WH'\n",
    "db_schema = 'CPG_SAP_OTIF_SCHEMA'"
   ]
  },
  {
   "cell_type": "code",
   "execution_count": 5,
   "id": "35a589f3",
   "metadata": {},
   "outputs": [],
   "source": [
    "from snowflake.snowpark.session import Session\n",
    "connection_params = {\n",
    "    'user': db_user,\n",
    "    'password': db_password,\n",
    "    'account': db_account,\n",
    "    'warehouse': db_warehouse,\n",
    "    'database': db_database,\n",
    "    'schema': db_schema,\n",
    "    'role': db_role\n",
    "}\n",
    "session1 = Session.builder.configs(connection_params).create()"
   ]
  },
  {
   "cell_type": "markdown",
   "id": "9eb92c74",
   "metadata": {},
   "source": [
    "## Fetch data from the Main table preprocessed using Data Designer"
   ]
  },
  {
   "cell_type": "code",
   "execution_count": 6,
   "id": "bd3a8ebd",
   "metadata": {},
   "outputs": [],
   "source": [
    "df = session1.table(\"ENRICHED_ORDER_SHIP\")"
   ]
  },
  {
   "cell_type": "code",
   "execution_count": 7,
   "id": "1bef57d6",
   "metadata": {},
   "outputs": [],
   "source": [
    "df = df.to_pandas()"
   ]
  },
  {
   "cell_type": "code",
   "execution_count": 8,
   "id": "3519bd3d",
   "metadata": {},
   "outputs": [
    {
     "data": {
      "text/plain": [
       "(966997, 46)"
      ]
     },
     "execution_count": 8,
     "metadata": {},
     "output_type": "execute_result"
    }
   ],
   "source": [
    "df.shape"
   ]
  },
  {
   "cell_type": "markdown",
   "id": "de4310b3",
   "metadata": {},
   "source": [
    "### Dataset Basic Information"
   ]
  },
  {
   "cell_type": "code",
   "execution_count": 9,
   "id": "ea0dfad1",
   "metadata": {
    "scrolled": false
   },
   "outputs": [
    {
     "name": "stdout",
     "output_type": "stream",
     "text": [
      "<class 'pandas.core.frame.DataFrame'>\n",
      "RangeIndex: 966997 entries, 0 to 966996\n",
      "Data columns (total 46 columns):\n",
      " #   Column                                Non-Null Count   Dtype  \n",
      "---  ------                                --------------   -----  \n",
      " 0   CUSTOMER_PURCHASE_ORDER_DATE          966997 non-null  object \n",
      " 1   ORDER_ENTRY_DATE                      966997 non-null  object \n",
      " 2   ORDER_REQUIRED_DELIVERY_DATE          966997 non-null  object \n",
      " 3   ORDER_CUSTOMER_REQUEST_DELIVERY_DATE  966997 non-null  object \n",
      " 4   ORDER_PROMISE_DATE                    966997 non-null  object \n",
      " 5   ORDER_FIRST_SHIPMENT_DATE             966997 non-null  object \n",
      " 6   SHIPMENT_ACTUAL_START_DATE            966997 non-null  object \n",
      " 7   ORDER_LINECANCEL_DATE                 966997 non-null  object \n",
      " 8   ITEM_OTQF                             758063 non-null  object \n",
      " 9   ITEM_OTQF_FLAG                        966997 non-null  object \n",
      " 10  ITEM_OTQF_DAYS                        847138 non-null  float64\n",
      " 11  ITEM_ORDERFILL                        856681 non-null  object \n",
      " 12  ITEM_ORDERFILL_FLAG                   966997 non-null  object \n",
      " 13  ITEM_ORDERFILL_DAYS                   957859 non-null  float64\n",
      " 14  ITEM_CUSTOMER                         749640 non-null  object \n",
      " 15  ITEN_CUSTOMER_ORDERFILL_FLAG          966997 non-null  int8   \n",
      " 16  ITEM_CUSTOER_DAYS                     847138 non-null  float64\n",
      " 17  OPEN_ORDER_FLAG                       966997 non-null  object \n",
      " 18  BACK_ORDER_FLAG                       966997 non-null  object \n",
      " 19  CANCEL_FLAG                           966997 non-null  object \n",
      " 20  CUSTOMER_NAME                         966997 non-null  object \n",
      " 21  SHIPMENT_ORIGINATION_FACILITY         966997 non-null  object \n",
      " 22  ORDER_NUMBER                          966997 non-null  int32  \n",
      " 23  PRODUCT_TYPE                          966997 non-null  object \n",
      " 24  PACKAGE_TYPE                          966997 non-null  object \n",
      " 25  PRODUCT_TECHNOLOGY                    966997 non-null  object \n",
      " 26  PRODUCT_SUBTECHNOLOGY                 966997 non-null  object \n",
      " 27  PRODUCT_DESIGN_TYPE                   966997 non-null  object \n",
      " 28  PRODUCT_SIZE                          966997 non-null  object \n",
      " 29  SUB_BRAND                             966997 non-null  object \n",
      " 30  CITY                                  966997 non-null  object \n",
      " 31  OUTLETS                               966997 non-null  object \n",
      " 32  ORDER_QUANTITY                        966997 non-null  int16  \n",
      " 33  QUANTITY_SHIPPED_ORDERFILL            966997 non-null  int16  \n",
      " 34  QUANTITY_SHIPPED_CUSTOMER             966997 non-null  int16  \n",
      " 35  QUANTITY_SHIPPED_OTQF                 966997 non-null  int16  \n",
      " 36  DELIVERED_QUANTITY                    966997 non-null  int16  \n",
      " 37  DELIVERED_QUANTITY_OTQF               966997 non-null  int16  \n",
      " 38  OPEN_QUANTITY                         966997 non-null  int16  \n",
      " 39  BACK_ORDER_QUANTITY                   966997 non-null  int16  \n",
      " 40  CANCEL_QUANTITY                       966997 non-null  int16  \n",
      " 41  REGION                                966997 non-null  object \n",
      " 42  COUNTRY                               966997 non-null  object \n",
      " 43  CHANNEL                               966997 non-null  object \n",
      " 44  SHIPMENT_ORIGINATION_FACILITY_TYPE    966997 non-null  object \n",
      " 45  BRAND                                 966997 non-null  object \n",
      "dtypes: float64(3), int16(9), int32(1), int8(1), object(32)\n",
      "memory usage: 279.4+ MB\n"
     ]
    }
   ],
   "source": [
    "df.info()"
   ]
  },
  {
   "cell_type": "markdown",
   "id": "668ddfd9",
   "metadata": {},
   "source": [
    "### Dropping all the ID related columns"
   ]
  },
  {
   "cell_type": "code",
   "execution_count": 10,
   "id": "433c45be",
   "metadata": {},
   "outputs": [],
   "source": [
    "cols_to_drop = ['ITEM_OTQF','ITEM_ORDERFILL','ITEM_CUSTOMER','ORDER_NUMBER']\n",
    "df.drop(cols_to_drop, inplace=True, axis=1)"
   ]
  },
  {
   "cell_type": "code",
   "execution_count": 11,
   "id": "18b16a9d",
   "metadata": {},
   "outputs": [
    {
     "data": {
      "text/plain": [
       "(966997, 42)"
      ]
     },
     "execution_count": 11,
     "metadata": {},
     "output_type": "execute_result"
    }
   ],
   "source": [
    "df.shape"
   ]
  },
  {
   "cell_type": "markdown",
   "id": "5ee08e85",
   "metadata": {},
   "source": [
    "### check distinct values present in all categorical columns"
   ]
  },
  {
   "cell_type": "code",
   "execution_count": 12,
   "id": "9a5ee804",
   "metadata": {},
   "outputs": [
    {
     "name": "stdout",
     "output_type": "stream",
     "text": [
      "------------------------------------------------\n",
      "CUSTOMER_NAME  ->  80\n",
      "------------------------------------------------\n",
      "SHIPMENT_ORIGINATION_FACILITY  ->  17\n",
      "------------------------------------------------\n",
      "PRODUCT_TYPE  ->  1\n",
      "------------------------------------------------\n",
      "PACKAGE_TYPE  ->  3\n",
      "------------------------------------------------\n",
      "PRODUCT_TECHNOLOGY  ->  1\n",
      "------------------------------------------------\n",
      "PRODUCT_SUBTECHNOLOGY  ->  3\n",
      "------------------------------------------------\n",
      "PRODUCT_DESIGN_TYPE  ->  3\n",
      "------------------------------------------------\n",
      "PRODUCT_SIZE  ->  7\n",
      "------------------------------------------------\n",
      "SUB_BRAND  ->  32\n",
      "------------------------------------------------\n",
      "CITY  ->  3369\n",
      "------------------------------------------------\n",
      "OUTLETS  ->  7\n",
      "------------------------------------------------\n",
      "REGION  ->  67\n",
      "------------------------------------------------\n",
      "COUNTRY  ->  6\n",
      "------------------------------------------------\n",
      "CHANNEL  ->  3\n",
      "------------------------------------------------\n",
      "SHIPMENT_ORIGINATION_FACILITY_TYPE  ->  4\n",
      "------------------------------------------------\n",
      "BRAND  ->  32\n"
     ]
    }
   ],
   "source": [
    "cat_columns = ['CUSTOMER_NAME','SHIPMENT_ORIGINATION_FACILITY','PRODUCT_TYPE','PACKAGE_TYPE','PRODUCT_TECHNOLOGY',\n",
    "'PRODUCT_SUBTECHNOLOGY','PRODUCT_DESIGN_TYPE','PRODUCT_SIZE','SUB_BRAND','CITY','OUTLETS','REGION','COUNTRY','CHANNEL',\n",
    "'SHIPMENT_ORIGINATION_FACILITY_TYPE','BRAND']\n",
    "\n",
    "for col in cat_columns:\n",
    "    print (\"------------------------------------------------\")\n",
    "    print (col, \" -> \",df[col].nunique())"
   ]
  },
  {
   "cell_type": "code",
   "execution_count": 13,
   "id": "f3405070",
   "metadata": {},
   "outputs": [
    {
     "data": {
      "text/html": [
       "<div>\n",
       "<style scoped>\n",
       "    .dataframe tbody tr th:only-of-type {\n",
       "        vertical-align: middle;\n",
       "    }\n",
       "\n",
       "    .dataframe tbody tr th {\n",
       "        vertical-align: top;\n",
       "    }\n",
       "\n",
       "    .dataframe thead th {\n",
       "        text-align: right;\n",
       "    }\n",
       "</style>\n",
       "<table border=\"1\" class=\"dataframe\">\n",
       "  <thead>\n",
       "    <tr style=\"text-align: right;\">\n",
       "      <th></th>\n",
       "      <th>CUSTOMER_NAME</th>\n",
       "      <th>SHIPMENT_ORIGINATION_FACILITY</th>\n",
       "      <th>PRODUCT_TYPE</th>\n",
       "      <th>PACKAGE_TYPE</th>\n",
       "      <th>PRODUCT_TECHNOLOGY</th>\n",
       "      <th>PRODUCT_SUBTECHNOLOGY</th>\n",
       "      <th>PRODUCT_DESIGN_TYPE</th>\n",
       "      <th>PRODUCT_SIZE</th>\n",
       "      <th>SUB_BRAND</th>\n",
       "      <th>CITY</th>\n",
       "      <th>OUTLETS</th>\n",
       "      <th>REGION</th>\n",
       "      <th>COUNTRY</th>\n",
       "      <th>CHANNEL</th>\n",
       "      <th>SHIPMENT_ORIGINATION_FACILITY_TYPE</th>\n",
       "      <th>BRAND</th>\n",
       "    </tr>\n",
       "  </thead>\n",
       "  <tbody>\n",
       "    <tr>\n",
       "      <th>0</th>\n",
       "      <td>WALMART - US</td>\n",
       "      <td>Yuma Plant</td>\n",
       "      <td>Beverage</td>\n",
       "      <td>Regular</td>\n",
       "      <td>Soft Drinks</td>\n",
       "      <td>Aerated Drinks</td>\n",
       "      <td>Cans</td>\n",
       "      <td>12 Oz</td>\n",
       "      <td>Craisins Trail</td>\n",
       "      <td>El Paso</td>\n",
       "      <td>Hyperstore</td>\n",
       "      <td>TX</td>\n",
       "      <td>United States</td>\n",
       "      <td>Modern Channel</td>\n",
       "      <td>Distribution center</td>\n",
       "      <td>Craisins Trail</td>\n",
       "    </tr>\n",
       "    <tr>\n",
       "      <th>1</th>\n",
       "      <td>WALMART - US</td>\n",
       "      <td>Fort Wayne DC</td>\n",
       "      <td>Beverage</td>\n",
       "      <td>Regular</td>\n",
       "      <td>Soft Drinks</td>\n",
       "      <td>Aerated Drinks</td>\n",
       "      <td>Cans</td>\n",
       "      <td>12 Oz</td>\n",
       "      <td>Craisins Trail</td>\n",
       "      <td>Somerset</td>\n",
       "      <td>Hyperstore</td>\n",
       "      <td>KY</td>\n",
       "      <td>United States</td>\n",
       "      <td>Modern Channel</td>\n",
       "      <td>Distribution center</td>\n",
       "      <td>Craisins Trail</td>\n",
       "    </tr>\n",
       "    <tr>\n",
       "      <th>2</th>\n",
       "      <td>WALMART - US</td>\n",
       "      <td>Fort Wayne DC</td>\n",
       "      <td>Beverage</td>\n",
       "      <td>Regular</td>\n",
       "      <td>Soft Drinks</td>\n",
       "      <td>Aerated Drinks</td>\n",
       "      <td>Cans</td>\n",
       "      <td>12 Oz</td>\n",
       "      <td>Craisins Trail</td>\n",
       "      <td>Ludington</td>\n",
       "      <td>Hyperstore</td>\n",
       "      <td>MI</td>\n",
       "      <td>United States</td>\n",
       "      <td>Modern Channel</td>\n",
       "      <td>Distribution center</td>\n",
       "      <td>Craisins Trail</td>\n",
       "    </tr>\n",
       "    <tr>\n",
       "      <th>3</th>\n",
       "      <td>WALMART - US</td>\n",
       "      <td>San Antonio 3PL</td>\n",
       "      <td>Beverage</td>\n",
       "      <td>Regular</td>\n",
       "      <td>Soft Drinks</td>\n",
       "      <td>Energy Drink</td>\n",
       "      <td>Cans</td>\n",
       "      <td>16 Oz</td>\n",
       "      <td>Craisins Trail</td>\n",
       "      <td>La Grange</td>\n",
       "      <td>Hyperstore</td>\n",
       "      <td>TX</td>\n",
       "      <td>United States</td>\n",
       "      <td>Modern Channel</td>\n",
       "      <td>3PL Third Party Logistics</td>\n",
       "      <td>Craisins Trail</td>\n",
       "    </tr>\n",
       "    <tr>\n",
       "      <th>4</th>\n",
       "      <td>WALMART - US</td>\n",
       "      <td>San Antonio 3PL</td>\n",
       "      <td>Beverage</td>\n",
       "      <td>Regular</td>\n",
       "      <td>Soft Drinks</td>\n",
       "      <td>Aerated Drinks</td>\n",
       "      <td>Cans</td>\n",
       "      <td>12 Oz</td>\n",
       "      <td>Craisins Trail</td>\n",
       "      <td>Uvalde</td>\n",
       "      <td>Hyperstore</td>\n",
       "      <td>TX</td>\n",
       "      <td>United States</td>\n",
       "      <td>Modern Channel</td>\n",
       "      <td>3PL Third Party Logistics</td>\n",
       "      <td>Craisins Trail</td>\n",
       "    </tr>\n",
       "  </tbody>\n",
       "</table>\n",
       "</div>"
      ],
      "text/plain": [
       "  CUSTOMER_NAME SHIPMENT_ORIGINATION_FACILITY PRODUCT_TYPE PACKAGE_TYPE  \\\n",
       "0  WALMART - US                    Yuma Plant     Beverage      Regular   \n",
       "1  WALMART - US                 Fort Wayne DC     Beverage      Regular   \n",
       "2  WALMART - US                 Fort Wayne DC     Beverage      Regular   \n",
       "3  WALMART - US               San Antonio 3PL     Beverage      Regular   \n",
       "4  WALMART - US               San Antonio 3PL     Beverage      Regular   \n",
       "\n",
       "  PRODUCT_TECHNOLOGY PRODUCT_SUBTECHNOLOGY PRODUCT_DESIGN_TYPE PRODUCT_SIZE  \\\n",
       "0        Soft Drinks        Aerated Drinks                Cans        12 Oz   \n",
       "1        Soft Drinks        Aerated Drinks                Cans        12 Oz   \n",
       "2        Soft Drinks        Aerated Drinks                Cans        12 Oz   \n",
       "3        Soft Drinks          Energy Drink                Cans        16 Oz   \n",
       "4        Soft Drinks        Aerated Drinks                Cans        12 Oz   \n",
       "\n",
       "        SUB_BRAND       CITY     OUTLETS REGION        COUNTRY  \\\n",
       "0  Craisins Trail    El Paso  Hyperstore     TX  United States   \n",
       "1  Craisins Trail   Somerset  Hyperstore     KY  United States   \n",
       "2  Craisins Trail  Ludington  Hyperstore     MI  United States   \n",
       "3  Craisins Trail  La Grange  Hyperstore     TX  United States   \n",
       "4  Craisins Trail     Uvalde  Hyperstore     TX  United States   \n",
       "\n",
       "          CHANNEL SHIPMENT_ORIGINATION_FACILITY_TYPE           BRAND  \n",
       "0  Modern Channel                Distribution center  Craisins Trail  \n",
       "1  Modern Channel                Distribution center  Craisins Trail  \n",
       "2  Modern Channel                Distribution center  Craisins Trail  \n",
       "3  Modern Channel          3PL Third Party Logistics  Craisins Trail  \n",
       "4  Modern Channel          3PL Third Party Logistics  Craisins Trail  "
      ]
     },
     "execution_count": 13,
     "metadata": {},
     "output_type": "execute_result"
    }
   ],
   "source": [
    "df[cat_columns].head()"
   ]
  },
  {
   "cell_type": "markdown",
   "id": "11dd2a05",
   "metadata": {},
   "source": [
    "### Drop categorical columns with two many cardinality or duplicate columns value"
   ]
  },
  {
   "cell_type": "code",
   "execution_count": 14,
   "id": "8eaa2527",
   "metadata": {},
   "outputs": [],
   "source": [
    "cat_cols_to_drop = ['PRODUCT_TYPE','PRODUCT_TECHNOLOGY','CITY','SUB_BRAND']\n",
    "df.drop(cat_cols_to_drop, inplace=True, axis=1)"
   ]
  },
  {
   "cell_type": "code",
   "execution_count": 15,
   "id": "a9bc483d",
   "metadata": {},
   "outputs": [
    {
     "data": {
      "text/plain": [
       "(966997, 38)"
      ]
     },
     "execution_count": 15,
     "metadata": {},
     "output_type": "execute_result"
    }
   ],
   "source": [
    "df.shape"
   ]
  },
  {
   "cell_type": "markdown",
   "id": "d1a271d1",
   "metadata": {},
   "source": [
    "### Convert the date columns to datetime"
   ]
  },
  {
   "cell_type": "code",
   "execution_count": 16,
   "id": "1098ed86",
   "metadata": {},
   "outputs": [],
   "source": [
    "date_columns = [\n",
    "'CUSTOMER_PURCHASE_ORDER_DATE','ORDER_ENTRY_DATE','ORDER_REQUIRED_DELIVERY_DATE','ORDER_CUSTOMER_REQUEST_DELIVERY_DATE',\n",
    "    'ORDER_PROMISE_DATE','ORDER_FIRST_SHIPMENT_DATE','SHIPMENT_ACTUAL_START_DATE','ORDER_LINECANCEL_DATE'\n",
    "]"
   ]
  },
  {
   "cell_type": "code",
   "execution_count": 17,
   "id": "75ecbffd",
   "metadata": {
    "scrolled": true
   },
   "outputs": [],
   "source": [
    "for col in date_columns:\n",
    "    df[col] = pd.to_datetime(df[col])"
   ]
  },
  {
   "cell_type": "markdown",
   "id": "b86112d5",
   "metadata": {},
   "source": [
    "### Extract Year, Month and Weekday form Customer_Purchase_Order_Date"
   ]
  },
  {
   "cell_type": "code",
   "execution_count": 18,
   "id": "e429bc43",
   "metadata": {},
   "outputs": [],
   "source": [
    "df['CUSTOMER_ORDER_YEAR'] = df['CUSTOMER_PURCHASE_ORDER_DATE'].dt.year\n",
    "df['CUSTOMER_ORDER_MONTH'] = df['CUSTOMER_PURCHASE_ORDER_DATE'].dt.month\n",
    "df['CUSTOMER_ORDER_WEEK'] = df['CUSTOMER_PURCHASE_ORDER_DATE'].dt.weekday"
   ]
  },
  {
   "cell_type": "markdown",
   "id": "a61bb196",
   "metadata": {},
   "source": [
    "### Calculate the difference between relevant date columns to generate new features"
   ]
  },
  {
   "cell_type": "code",
   "execution_count": 19,
   "id": "2f130870",
   "metadata": {},
   "outputs": [],
   "source": [
    "df['CUSTOMER_ORDER_ENTRY_IN_DAYS'] = (df['CUSTOMER_PURCHASE_ORDER_DATE'] - df['ORDER_ENTRY_DATE']).dt.days\n",
    "df['CUSTOMER_ORDER_REQUIRE_DELV_IN_DAYS'] = (df['CUSTOMER_PURCHASE_ORDER_DATE'] - df['ORDER_REQUIRED_DELIVERY_DATE']).dt.days\n",
    "df['CUSTOMER_ORDER_REQ_DELV_IN_DAYS'] = (df['CUSTOMER_PURCHASE_ORDER_DATE'] - df['ORDER_CUSTOMER_REQUEST_DELIVERY_DATE']).dt.days\n",
    "df['CUSTOMER_ORDER_PROM_DELV_IN_DAYS'] = (df['CUSTOMER_PURCHASE_ORDER_DATE'] - df['ORDER_PROMISE_DATE']).dt.days\n",
    "\n",
    "df['ORDER_ENTRY_PROMISE_IN_DAYS'] = (df['ORDER_ENTRY_DATE'] - df['ORDER_PROMISE_DATE']).dt.days\n",
    "df['ORDER_ENTRY_SHIPMT_START_IN_DAYS'] = (df['ORDER_ENTRY_DATE'] - df['SHIPMENT_ACTUAL_START_DATE']).dt.days"
   ]
  },
  {
   "cell_type": "markdown",
   "id": "617f7d3f",
   "metadata": {},
   "source": [
    "### Drop all the other date related columns"
   ]
  },
  {
   "cell_type": "code",
   "execution_count": 20,
   "id": "cdaad1c4",
   "metadata": {},
   "outputs": [],
   "source": [
    "df.drop(date_columns, inplace=True, axis=1)"
   ]
  },
  {
   "cell_type": "code",
   "execution_count": 21,
   "id": "7a01fa56",
   "metadata": {},
   "outputs": [
    {
     "data": {
      "text/plain": [
       "(966997, 39)"
      ]
     },
     "execution_count": 21,
     "metadata": {},
     "output_type": "execute_result"
    }
   ],
   "source": [
    "df.shape"
   ]
  },
  {
   "cell_type": "code",
   "execution_count": 22,
   "id": "62c7d412",
   "metadata": {
    "scrolled": false
   },
   "outputs": [
    {
     "name": "stdout",
     "output_type": "stream",
     "text": [
      "<class 'pandas.core.frame.DataFrame'>\n",
      "RangeIndex: 966997 entries, 0 to 966996\n",
      "Data columns (total 39 columns):\n",
      " #   Column                               Non-Null Count   Dtype  \n",
      "---  ------                               --------------   -----  \n",
      " 0   ITEM_OTQF_FLAG                       966997 non-null  object \n",
      " 1   ITEM_OTQF_DAYS                       847138 non-null  float64\n",
      " 2   ITEM_ORDERFILL_FLAG                  966997 non-null  object \n",
      " 3   ITEM_ORDERFILL_DAYS                  957859 non-null  float64\n",
      " 4   ITEN_CUSTOMER_ORDERFILL_FLAG         966997 non-null  int8   \n",
      " 5   ITEM_CUSTOER_DAYS                    847138 non-null  float64\n",
      " 6   OPEN_ORDER_FLAG                      966997 non-null  object \n",
      " 7   BACK_ORDER_FLAG                      966997 non-null  object \n",
      " 8   CANCEL_FLAG                          966997 non-null  object \n",
      " 9   CUSTOMER_NAME                        966997 non-null  object \n",
      " 10  SHIPMENT_ORIGINATION_FACILITY        966997 non-null  object \n",
      " 11  PACKAGE_TYPE                         966997 non-null  object \n",
      " 12  PRODUCT_SUBTECHNOLOGY                966997 non-null  object \n",
      " 13  PRODUCT_DESIGN_TYPE                  966997 non-null  object \n",
      " 14  PRODUCT_SIZE                         966997 non-null  object \n",
      " 15  OUTLETS                              966997 non-null  object \n",
      " 16  ORDER_QUANTITY                       966997 non-null  int16  \n",
      " 17  QUANTITY_SHIPPED_ORDERFILL           966997 non-null  int16  \n",
      " 18  QUANTITY_SHIPPED_CUSTOMER            966997 non-null  int16  \n",
      " 19  QUANTITY_SHIPPED_OTQF                966997 non-null  int16  \n",
      " 20  DELIVERED_QUANTITY                   966997 non-null  int16  \n",
      " 21  DELIVERED_QUANTITY_OTQF              966997 non-null  int16  \n",
      " 22  OPEN_QUANTITY                        966997 non-null  int16  \n",
      " 23  BACK_ORDER_QUANTITY                  966997 non-null  int16  \n",
      " 24  CANCEL_QUANTITY                      966997 non-null  int16  \n",
      " 25  REGION                               966997 non-null  object \n",
      " 26  COUNTRY                              966997 non-null  object \n",
      " 27  CHANNEL                              966997 non-null  object \n",
      " 28  SHIPMENT_ORIGINATION_FACILITY_TYPE   966997 non-null  object \n",
      " 29  BRAND                                966997 non-null  object \n",
      " 30  CUSTOMER_ORDER_YEAR                  966997 non-null  int32  \n",
      " 31  CUSTOMER_ORDER_MONTH                 966997 non-null  int32  \n",
      " 32  CUSTOMER_ORDER_WEEK                  966997 non-null  int32  \n",
      " 33  CUSTOMER_ORDER_ENTRY_IN_DAYS         966997 non-null  int64  \n",
      " 34  CUSTOMER_ORDER_REQUIRE_DELV_IN_DAYS  966997 non-null  int64  \n",
      " 35  CUSTOMER_ORDER_REQ_DELV_IN_DAYS      966997 non-null  int64  \n",
      " 36  CUSTOMER_ORDER_PROM_DELV_IN_DAYS     966997 non-null  int64  \n",
      " 37  ORDER_ENTRY_PROMISE_IN_DAYS          966997 non-null  int64  \n",
      " 38  ORDER_ENTRY_SHIPMT_START_IN_DAYS     966997 non-null  int64  \n",
      "dtypes: float64(3), int16(9), int32(3), int64(6), int8(1), object(17)\n",
      "memory usage: 220.4+ MB\n"
     ]
    }
   ],
   "source": [
    "df.info()"
   ]
  },
  {
   "cell_type": "markdown",
   "id": "08a12c89",
   "metadata": {},
   "source": [
    "### Handle/fill Null values"
   ]
  },
  {
   "cell_type": "code",
   "execution_count": 23,
   "id": "527a4702",
   "metadata": {},
   "outputs": [],
   "source": [
    "df.fillna(0, inplace=True)"
   ]
  },
  {
   "cell_type": "markdown",
   "id": "f3eede45",
   "metadata": {},
   "source": [
    "### Check if Null values still exists"
   ]
  },
  {
   "cell_type": "code",
   "execution_count": 24,
   "id": "a4bf609c",
   "metadata": {
    "scrolled": false
   },
   "outputs": [
    {
     "data": {
      "text/plain": [
       "ITEM_OTQF_FLAG                         0\n",
       "ITEM_OTQF_DAYS                         0\n",
       "ITEM_ORDERFILL_FLAG                    0\n",
       "ITEM_ORDERFILL_DAYS                    0\n",
       "ITEN_CUSTOMER_ORDERFILL_FLAG           0\n",
       "ITEM_CUSTOER_DAYS                      0\n",
       "OPEN_ORDER_FLAG                        0\n",
       "BACK_ORDER_FLAG                        0\n",
       "CANCEL_FLAG                            0\n",
       "CUSTOMER_NAME                          0\n",
       "SHIPMENT_ORIGINATION_FACILITY          0\n",
       "PACKAGE_TYPE                           0\n",
       "PRODUCT_SUBTECHNOLOGY                  0\n",
       "PRODUCT_DESIGN_TYPE                    0\n",
       "PRODUCT_SIZE                           0\n",
       "OUTLETS                                0\n",
       "ORDER_QUANTITY                         0\n",
       "QUANTITY_SHIPPED_ORDERFILL             0\n",
       "QUANTITY_SHIPPED_CUSTOMER              0\n",
       "QUANTITY_SHIPPED_OTQF                  0\n",
       "DELIVERED_QUANTITY                     0\n",
       "DELIVERED_QUANTITY_OTQF                0\n",
       "OPEN_QUANTITY                          0\n",
       "BACK_ORDER_QUANTITY                    0\n",
       "CANCEL_QUANTITY                        0\n",
       "REGION                                 0\n",
       "COUNTRY                                0\n",
       "CHANNEL                                0\n",
       "SHIPMENT_ORIGINATION_FACILITY_TYPE     0\n",
       "BRAND                                  0\n",
       "CUSTOMER_ORDER_YEAR                    0\n",
       "CUSTOMER_ORDER_MONTH                   0\n",
       "CUSTOMER_ORDER_WEEK                    0\n",
       "CUSTOMER_ORDER_ENTRY_IN_DAYS           0\n",
       "CUSTOMER_ORDER_REQUIRE_DELV_IN_DAYS    0\n",
       "CUSTOMER_ORDER_REQ_DELV_IN_DAYS        0\n",
       "CUSTOMER_ORDER_PROM_DELV_IN_DAYS       0\n",
       "ORDER_ENTRY_PROMISE_IN_DAYS            0\n",
       "ORDER_ENTRY_SHIPMT_START_IN_DAYS       0\n",
       "dtype: int64"
      ]
     },
     "execution_count": 24,
     "metadata": {},
     "output_type": "execute_result"
    }
   ],
   "source": [
    "df.isnull().sum()"
   ]
  },
  {
   "cell_type": "code",
   "execution_count": 26,
   "id": "9c8a2488",
   "metadata": {},
   "outputs": [
    {
     "data": {
      "text/plain": [
       "ITEM_OTQF_FLAG\n",
       "1    758063\n",
       "0    208934\n",
       "Name: count, dtype: int64"
      ]
     },
     "execution_count": 26,
     "metadata": {},
     "output_type": "execute_result"
    }
   ],
   "source": [
    "df['ITEM_OTQF_FLAG'].value_counts()"
   ]
  },
  {
   "cell_type": "code",
   "execution_count": 27,
   "id": "cdeb1b1a",
   "metadata": {},
   "outputs": [
    {
     "data": {
      "text/plain": [
       "ITEM_ORDERFILL_FLAG\n",
       "1    856681\n",
       "0    110316\n",
       "Name: count, dtype: int64"
      ]
     },
     "execution_count": 27,
     "metadata": {},
     "output_type": "execute_result"
    }
   ],
   "source": [
    "df['ITEM_ORDERFILL_FLAG'].value_counts()"
   ]
  },
  {
   "cell_type": "code",
   "execution_count": 28,
   "id": "f87ebc72",
   "metadata": {},
   "outputs": [
    {
     "data": {
      "text/plain": [
       "OPEN_ORDER_FLAG\n",
       "0    966313\n",
       "1       684\n",
       "Name: count, dtype: int64"
      ]
     },
     "execution_count": 28,
     "metadata": {},
     "output_type": "execute_result"
    }
   ],
   "source": [
    "df['OPEN_ORDER_FLAG'].value_counts()"
   ]
  },
  {
   "cell_type": "code",
   "execution_count": 56,
   "id": "aa4b6af3",
   "metadata": {},
   "outputs": [
    {
     "data": {
      "text/plain": [
       "BACK_ORDER_FLAG\n",
       "0    966765\n",
       "1       232\n",
       "Name: count, dtype: int64"
      ]
     },
     "execution_count": 56,
     "metadata": {},
     "output_type": "execute_result"
    }
   ],
   "source": [
    "df['BACK_ORDER_FLAG'].value_counts()"
   ]
  },
  {
   "cell_type": "code",
   "execution_count": 29,
   "id": "46e843c8",
   "metadata": {
    "scrolled": true
   },
   "outputs": [
    {
     "data": {
      "text/plain": [
       "CANCEL_FLAG\n",
       "0    877244\n",
       "1     89753\n",
       "Name: count, dtype: int64"
      ]
     },
     "execution_count": 29,
     "metadata": {},
     "output_type": "execute_result"
    }
   ],
   "source": [
    "df['CANCEL_FLAG'].value_counts()"
   ]
  },
  {
   "cell_type": "code",
   "execution_count": 30,
   "id": "53dc637a",
   "metadata": {},
   "outputs": [],
   "source": [
    "df.drop('CANCEL_FLAG', inplace=True, axis=1)"
   ]
  },
  {
   "cell_type": "code",
   "execution_count": 31,
   "id": "3e315606",
   "metadata": {},
   "outputs": [],
   "source": [
    "for col in ['ITEM_OTQF_FLAG','ITEM_ORDERFILL_FLAG','OPEN_ORDER_FLAG','BACK_ORDER_FLAG']:\n",
    "    df[col] = df[col].astype('int')"
   ]
  },
  {
   "cell_type": "code",
   "execution_count": 32,
   "id": "69301160",
   "metadata": {},
   "outputs": [
    {
     "data": {
      "text/html": [
       "<div>\n",
       "<style scoped>\n",
       "    .dataframe tbody tr th:only-of-type {\n",
       "        vertical-align: middle;\n",
       "    }\n",
       "\n",
       "    .dataframe tbody tr th {\n",
       "        vertical-align: top;\n",
       "    }\n",
       "\n",
       "    .dataframe thead th {\n",
       "        text-align: right;\n",
       "    }\n",
       "</style>\n",
       "<table border=\"1\" class=\"dataframe\">\n",
       "  <thead>\n",
       "    <tr style=\"text-align: right;\">\n",
       "      <th></th>\n",
       "      <th>CUSTOMER_NAME</th>\n",
       "      <th>SHIPMENT_ORIGINATION_FACILITY</th>\n",
       "      <th>PACKAGE_TYPE</th>\n",
       "      <th>PRODUCT_SUBTECHNOLOGY</th>\n",
       "      <th>PRODUCT_DESIGN_TYPE</th>\n",
       "      <th>PRODUCT_SIZE</th>\n",
       "      <th>OUTLETS</th>\n",
       "      <th>REGION</th>\n",
       "      <th>COUNTRY</th>\n",
       "      <th>CHANNEL</th>\n",
       "      <th>SHIPMENT_ORIGINATION_FACILITY_TYPE</th>\n",
       "      <th>BRAND</th>\n",
       "    </tr>\n",
       "  </thead>\n",
       "  <tbody>\n",
       "    <tr>\n",
       "      <th>0</th>\n",
       "      <td>WALMART - US</td>\n",
       "      <td>Yuma Plant</td>\n",
       "      <td>Regular</td>\n",
       "      <td>Aerated Drinks</td>\n",
       "      <td>Cans</td>\n",
       "      <td>12 Oz</td>\n",
       "      <td>Hyperstore</td>\n",
       "      <td>TX</td>\n",
       "      <td>United States</td>\n",
       "      <td>Modern Channel</td>\n",
       "      <td>Distribution center</td>\n",
       "      <td>Craisins Trail</td>\n",
       "    </tr>\n",
       "    <tr>\n",
       "      <th>1</th>\n",
       "      <td>WALMART - US</td>\n",
       "      <td>Fort Wayne DC</td>\n",
       "      <td>Regular</td>\n",
       "      <td>Aerated Drinks</td>\n",
       "      <td>Cans</td>\n",
       "      <td>12 Oz</td>\n",
       "      <td>Hyperstore</td>\n",
       "      <td>KY</td>\n",
       "      <td>United States</td>\n",
       "      <td>Modern Channel</td>\n",
       "      <td>Distribution center</td>\n",
       "      <td>Craisins Trail</td>\n",
       "    </tr>\n",
       "    <tr>\n",
       "      <th>2</th>\n",
       "      <td>WALMART - US</td>\n",
       "      <td>Fort Wayne DC</td>\n",
       "      <td>Regular</td>\n",
       "      <td>Aerated Drinks</td>\n",
       "      <td>Cans</td>\n",
       "      <td>12 Oz</td>\n",
       "      <td>Hyperstore</td>\n",
       "      <td>MI</td>\n",
       "      <td>United States</td>\n",
       "      <td>Modern Channel</td>\n",
       "      <td>Distribution center</td>\n",
       "      <td>Craisins Trail</td>\n",
       "    </tr>\n",
       "    <tr>\n",
       "      <th>3</th>\n",
       "      <td>WALMART - US</td>\n",
       "      <td>San Antonio 3PL</td>\n",
       "      <td>Regular</td>\n",
       "      <td>Energy Drink</td>\n",
       "      <td>Cans</td>\n",
       "      <td>16 Oz</td>\n",
       "      <td>Hyperstore</td>\n",
       "      <td>TX</td>\n",
       "      <td>United States</td>\n",
       "      <td>Modern Channel</td>\n",
       "      <td>3PL Third Party Logistics</td>\n",
       "      <td>Craisins Trail</td>\n",
       "    </tr>\n",
       "    <tr>\n",
       "      <th>4</th>\n",
       "      <td>WALMART - US</td>\n",
       "      <td>San Antonio 3PL</td>\n",
       "      <td>Regular</td>\n",
       "      <td>Aerated Drinks</td>\n",
       "      <td>Cans</td>\n",
       "      <td>12 Oz</td>\n",
       "      <td>Hyperstore</td>\n",
       "      <td>TX</td>\n",
       "      <td>United States</td>\n",
       "      <td>Modern Channel</td>\n",
       "      <td>3PL Third Party Logistics</td>\n",
       "      <td>Craisins Trail</td>\n",
       "    </tr>\n",
       "    <tr>\n",
       "      <th>...</th>\n",
       "      <td>...</td>\n",
       "      <td>...</td>\n",
       "      <td>...</td>\n",
       "      <td>...</td>\n",
       "      <td>...</td>\n",
       "      <td>...</td>\n",
       "      <td>...</td>\n",
       "      <td>...</td>\n",
       "      <td>...</td>\n",
       "      <td>...</td>\n",
       "      <td>...</td>\n",
       "      <td>...</td>\n",
       "    </tr>\n",
       "    <tr>\n",
       "      <th>966992</th>\n",
       "      <td>INTERSTATE BATTERIES US</td>\n",
       "      <td>San Antonio 3PL</td>\n",
       "      <td>Regular</td>\n",
       "      <td>Aerated Drinks</td>\n",
       "      <td>Cans</td>\n",
       "      <td>24 Oz</td>\n",
       "      <td>SuperStore</td>\n",
       "      <td>MS</td>\n",
       "      <td>United States</td>\n",
       "      <td>Modern Channel</td>\n",
       "      <td>3PL Third Party Logistics</td>\n",
       "      <td>Rock star Energy</td>\n",
       "    </tr>\n",
       "    <tr>\n",
       "      <th>966993</th>\n",
       "      <td>WALMART - US</td>\n",
       "      <td>Portland Plant</td>\n",
       "      <td>Regular</td>\n",
       "      <td>Aerated Drinks</td>\n",
       "      <td>Cans</td>\n",
       "      <td>12 Oz</td>\n",
       "      <td>Hyperstore</td>\n",
       "      <td>CA</td>\n",
       "      <td>United States</td>\n",
       "      <td>Modern Channel</td>\n",
       "      <td>Fully Integrated Plant</td>\n",
       "      <td>Maxwell Home</td>\n",
       "    </tr>\n",
       "    <tr>\n",
       "      <th>966994</th>\n",
       "      <td>WALMART - US</td>\n",
       "      <td>Portland Plant</td>\n",
       "      <td>Regular</td>\n",
       "      <td>Aerated Drinks</td>\n",
       "      <td>Cans</td>\n",
       "      <td>22 Oz</td>\n",
       "      <td>Hyperstore</td>\n",
       "      <td>OR</td>\n",
       "      <td>United States</td>\n",
       "      <td>Modern Channel</td>\n",
       "      <td>Fully Integrated Plant</td>\n",
       "      <td>Craisins Trail</td>\n",
       "    </tr>\n",
       "    <tr>\n",
       "      <th>966995</th>\n",
       "      <td>WALMART - US</td>\n",
       "      <td>Portland Plant</td>\n",
       "      <td>Regular</td>\n",
       "      <td>Aerated Drinks</td>\n",
       "      <td>Cans</td>\n",
       "      <td>12 Oz</td>\n",
       "      <td>Hyperstore</td>\n",
       "      <td>WA</td>\n",
       "      <td>United States</td>\n",
       "      <td>Modern Channel</td>\n",
       "      <td>Fully Integrated Plant</td>\n",
       "      <td>Maxwell Home</td>\n",
       "    </tr>\n",
       "    <tr>\n",
       "      <th>966996</th>\n",
       "      <td>WALMART - US</td>\n",
       "      <td>Portland Plant</td>\n",
       "      <td>Regular</td>\n",
       "      <td>Aerated Drinks</td>\n",
       "      <td>Cans</td>\n",
       "      <td>12 Oz</td>\n",
       "      <td>Hyperstore</td>\n",
       "      <td>NV</td>\n",
       "      <td>United States</td>\n",
       "      <td>Modern Channel</td>\n",
       "      <td>Fully Integrated Plant</td>\n",
       "      <td>Craisins Trail</td>\n",
       "    </tr>\n",
       "  </tbody>\n",
       "</table>\n",
       "<p>966997 rows × 12 columns</p>\n",
       "</div>"
      ],
      "text/plain": [
       "                  CUSTOMER_NAME SHIPMENT_ORIGINATION_FACILITY PACKAGE_TYPE  \\\n",
       "0                  WALMART - US                    Yuma Plant      Regular   \n",
       "1                  WALMART - US                 Fort Wayne DC      Regular   \n",
       "2                  WALMART - US                 Fort Wayne DC      Regular   \n",
       "3                  WALMART - US               San Antonio 3PL      Regular   \n",
       "4                  WALMART - US               San Antonio 3PL      Regular   \n",
       "...                         ...                           ...          ...   \n",
       "966992  INTERSTATE BATTERIES US               San Antonio 3PL      Regular   \n",
       "966993             WALMART - US                Portland Plant      Regular   \n",
       "966994             WALMART - US                Portland Plant      Regular   \n",
       "966995             WALMART - US                Portland Plant      Regular   \n",
       "966996             WALMART - US                Portland Plant      Regular   \n",
       "\n",
       "       PRODUCT_SUBTECHNOLOGY PRODUCT_DESIGN_TYPE PRODUCT_SIZE     OUTLETS  \\\n",
       "0             Aerated Drinks                Cans        12 Oz  Hyperstore   \n",
       "1             Aerated Drinks                Cans        12 Oz  Hyperstore   \n",
       "2             Aerated Drinks                Cans        12 Oz  Hyperstore   \n",
       "3               Energy Drink                Cans        16 Oz  Hyperstore   \n",
       "4             Aerated Drinks                Cans        12 Oz  Hyperstore   \n",
       "...                      ...                 ...          ...         ...   \n",
       "966992        Aerated Drinks                Cans        24 Oz  SuperStore   \n",
       "966993        Aerated Drinks                Cans        12 Oz  Hyperstore   \n",
       "966994        Aerated Drinks                Cans        22 Oz  Hyperstore   \n",
       "966995        Aerated Drinks                Cans        12 Oz  Hyperstore   \n",
       "966996        Aerated Drinks                Cans        12 Oz  Hyperstore   \n",
       "\n",
       "       REGION        COUNTRY         CHANNEL  \\\n",
       "0          TX  United States  Modern Channel   \n",
       "1          KY  United States  Modern Channel   \n",
       "2          MI  United States  Modern Channel   \n",
       "3          TX  United States  Modern Channel   \n",
       "4          TX  United States  Modern Channel   \n",
       "...       ...            ...             ...   \n",
       "966992     MS  United States  Modern Channel   \n",
       "966993     CA  United States  Modern Channel   \n",
       "966994     OR  United States  Modern Channel   \n",
       "966995     WA  United States  Modern Channel   \n",
       "966996     NV  United States  Modern Channel   \n",
       "\n",
       "       SHIPMENT_ORIGINATION_FACILITY_TYPE             BRAND  \n",
       "0                     Distribution center    Craisins Trail  \n",
       "1                     Distribution center    Craisins Trail  \n",
       "2                     Distribution center    Craisins Trail  \n",
       "3               3PL Third Party Logistics    Craisins Trail  \n",
       "4               3PL Third Party Logistics    Craisins Trail  \n",
       "...                                   ...               ...  \n",
       "966992          3PL Third Party Logistics  Rock star Energy  \n",
       "966993             Fully Integrated Plant      Maxwell Home  \n",
       "966994             Fully Integrated Plant    Craisins Trail  \n",
       "966995             Fully Integrated Plant      Maxwell Home  \n",
       "966996             Fully Integrated Plant    Craisins Trail  \n",
       "\n",
       "[966997 rows x 12 columns]"
      ]
     },
     "execution_count": 32,
     "metadata": {},
     "output_type": "execute_result"
    }
   ],
   "source": [
    "df.select_dtypes(include='object')"
   ]
  },
  {
   "cell_type": "code",
   "execution_count": 33,
   "id": "5f550039",
   "metadata": {},
   "outputs": [
    {
     "data": {
      "text/plain": [
       "(966997, 38)"
      ]
     },
     "execution_count": 33,
     "metadata": {},
     "output_type": "execute_result"
    }
   ],
   "source": [
    "df.shape"
   ]
  },
  {
   "cell_type": "code",
   "execution_count": 36,
   "id": "50637fcf",
   "metadata": {},
   "outputs": [
    {
     "name": "stdout",
     "output_type": "stream",
     "text": [
      "<class 'pandas.core.frame.DataFrame'>\n",
      "RangeIndex: 966997 entries, 0 to 966996\n",
      "Data columns (total 26 columns):\n",
      " #   Column                               Non-Null Count   Dtype  \n",
      "---  ------                               --------------   -----  \n",
      " 0   ITEM_OTQF_FLAG                       966997 non-null  int64  \n",
      " 1   ITEM_OTQF_DAYS                       966997 non-null  float64\n",
      " 2   ITEM_ORDERFILL_FLAG                  966997 non-null  int64  \n",
      " 3   ITEM_ORDERFILL_DAYS                  966997 non-null  float64\n",
      " 4   ITEN_CUSTOMER_ORDERFILL_FLAG         966997 non-null  int8   \n",
      " 5   ITEM_CUSTOER_DAYS                    966997 non-null  float64\n",
      " 6   OPEN_ORDER_FLAG                      966997 non-null  int64  \n",
      " 7   BACK_ORDER_FLAG                      966997 non-null  int64  \n",
      " 8   ORDER_QUANTITY                       966997 non-null  int16  \n",
      " 9   QUANTITY_SHIPPED_ORDERFILL           966997 non-null  int16  \n",
      " 10  QUANTITY_SHIPPED_CUSTOMER            966997 non-null  int16  \n",
      " 11  QUANTITY_SHIPPED_OTQF                966997 non-null  int16  \n",
      " 12  DELIVERED_QUANTITY                   966997 non-null  int16  \n",
      " 13  DELIVERED_QUANTITY_OTQF              966997 non-null  int16  \n",
      " 14  OPEN_QUANTITY                        966997 non-null  int16  \n",
      " 15  BACK_ORDER_QUANTITY                  966997 non-null  int16  \n",
      " 16  CANCEL_QUANTITY                      966997 non-null  int16  \n",
      " 17  CUSTOMER_ORDER_YEAR                  966997 non-null  int32  \n",
      " 18  CUSTOMER_ORDER_MONTH                 966997 non-null  int32  \n",
      " 19  CUSTOMER_ORDER_WEEK                  966997 non-null  int32  \n",
      " 20  CUSTOMER_ORDER_ENTRY_IN_DAYS         966997 non-null  int64  \n",
      " 21  CUSTOMER_ORDER_REQUIRE_DELV_IN_DAYS  966997 non-null  int64  \n",
      " 22  CUSTOMER_ORDER_REQ_DELV_IN_DAYS      966997 non-null  int64  \n",
      " 23  CUSTOMER_ORDER_PROM_DELV_IN_DAYS     966997 non-null  int64  \n",
      " 24  ORDER_ENTRY_PROMISE_IN_DAYS          966997 non-null  int64  \n",
      " 25  ORDER_ENTRY_SHIPMT_START_IN_DAYS     966997 non-null  int64  \n",
      "dtypes: float64(3), int16(9), int32(3), int64(10), int8(1)\n",
      "memory usage: 124.5 MB\n"
     ]
    }
   ],
   "source": [
    "df.select_dtypes(exclude='object').info()"
   ]
  },
  {
   "cell_type": "markdown",
   "id": "a09688ab",
   "metadata": {},
   "source": [
    "### Drop numerical columns which are correlated/contributes to the target output"
   ]
  },
  {
   "cell_type": "code",
   "execution_count": 37,
   "id": "9871b20d",
   "metadata": {},
   "outputs": [],
   "source": [
    "num_to_drop = ['DELIVERED_QUANTITY','CANCEL_QUANTITY','QUANTITY_SHIPPED_ORDERFILL','QUANTITY_SHIPPED_CUSTOMER','QUANTITY_SHIPPED_OTQF']\n",
    "df.drop(num_to_drop, inplace=True, axis=1)"
   ]
  },
  {
   "cell_type": "code",
   "execution_count": 38,
   "id": "91acbdec",
   "metadata": {},
   "outputs": [
    {
     "data": {
      "text/plain": [
       "(966997, 33)"
      ]
     },
     "execution_count": 38,
     "metadata": {},
     "output_type": "execute_result"
    }
   ],
   "source": [
    "df.shape"
   ]
  },
  {
   "cell_type": "code",
   "execution_count": 43,
   "id": "900cc38e",
   "metadata": {},
   "outputs": [],
   "source": [
    "label_enc =  df.select_dtypes(include='object').columns"
   ]
  },
  {
   "cell_type": "code",
   "execution_count": 44,
   "id": "589a6910",
   "metadata": {
    "scrolled": true
   },
   "outputs": [
    {
     "data": {
      "text/plain": [
       "Index(['CUSTOMER_NAME', 'SHIPMENT_ORIGINATION_FACILITY', 'PACKAGE_TYPE',\n",
       "       'PRODUCT_SUBTECHNOLOGY', 'PRODUCT_DESIGN_TYPE', 'PRODUCT_SIZE',\n",
       "       'OUTLETS', 'REGION', 'COUNTRY', 'CHANNEL',\n",
       "       'SHIPMENT_ORIGINATION_FACILITY_TYPE', 'BRAND'],\n",
       "      dtype='object')"
      ]
     },
     "execution_count": 44,
     "metadata": {},
     "output_type": "execute_result"
    }
   ],
   "source": [
    "label_enc"
   ]
  },
  {
   "cell_type": "markdown",
   "id": "0186a8f7",
   "metadata": {},
   "source": [
    "### Label Encode all the object/categorical columns "
   ]
  },
  {
   "cell_type": "code",
   "execution_count": 56,
   "id": "d1d428f4",
   "metadata": {},
   "outputs": [],
   "source": [
    "# Encode labels in column 'species'.\n",
    "l1 = preprocessing.LabelEncoder() \n",
    "df['CUSTOMER_NAME']= l1.fit_transform(df['CUSTOMER_NAME'])"
   ]
  },
  {
   "cell_type": "code",
   "execution_count": 57,
   "id": "ac5a2c50",
   "metadata": {},
   "outputs": [],
   "source": [
    "l2 = preprocessing.LabelEncoder() \n",
    "df['SHIPMENT_ORIGINATION_FACILITY']= l2.fit_transform(df['SHIPMENT_ORIGINATION_FACILITY'])"
   ]
  },
  {
   "cell_type": "code",
   "execution_count": 58,
   "id": "a86f108b",
   "metadata": {},
   "outputs": [],
   "source": [
    "l3 = preprocessing.LabelEncoder() \n",
    "df['PACKAGE_TYPE']= l3.fit_transform(df['PACKAGE_TYPE'])"
   ]
  },
  {
   "cell_type": "code",
   "execution_count": 59,
   "id": "d580de28",
   "metadata": {},
   "outputs": [],
   "source": [
    "l4 = preprocessing.LabelEncoder() \n",
    "df['PRODUCT_SUBTECHNOLOGY']= l4.fit_transform(df['PRODUCT_SUBTECHNOLOGY'])"
   ]
  },
  {
   "cell_type": "code",
   "execution_count": 60,
   "id": "d25e777e",
   "metadata": {},
   "outputs": [],
   "source": [
    "l5 = preprocessing.LabelEncoder() \n",
    "df['PRODUCT_DESIGN_TYPE']= l5.fit_transform(df['PRODUCT_DESIGN_TYPE'])"
   ]
  },
  {
   "cell_type": "code",
   "execution_count": 61,
   "id": "eeae3b80",
   "metadata": {},
   "outputs": [],
   "source": [
    "l6 = preprocessing.LabelEncoder() \n",
    "df['PRODUCT_SIZE']= l6.fit_transform(df['PRODUCT_SIZE'])"
   ]
  },
  {
   "cell_type": "code",
   "execution_count": 62,
   "id": "311884ff",
   "metadata": {},
   "outputs": [],
   "source": [
    "l7 = preprocessing.LabelEncoder() \n",
    "df['OUTLETS']= l7.fit_transform(df['OUTLETS'])"
   ]
  },
  {
   "cell_type": "code",
   "execution_count": 63,
   "id": "f1000137",
   "metadata": {},
   "outputs": [],
   "source": [
    "l8 = preprocessing.LabelEncoder() \n",
    "df['REGION']= l8.fit_transform(df['REGION'])"
   ]
  },
  {
   "cell_type": "code",
   "execution_count": 64,
   "id": "dcc33ae0",
   "metadata": {},
   "outputs": [],
   "source": [
    "l9 = preprocessing.LabelEncoder() \n",
    "df['COUNTRY']= l9.fit_transform(df['COUNTRY'])"
   ]
  },
  {
   "cell_type": "code",
   "execution_count": 65,
   "id": "0d74b4c8",
   "metadata": {},
   "outputs": [],
   "source": [
    "l0 = preprocessing.LabelEncoder() \n",
    "df['CHANNEL']= l0.fit_transform(df['CHANNEL'])"
   ]
  },
  {
   "cell_type": "code",
   "execution_count": 66,
   "id": "f40e1af8",
   "metadata": {},
   "outputs": [],
   "source": [
    "l11 = preprocessing.LabelEncoder() \n",
    "df['SHIPMENT_ORIGINATION_FACILITY_TYPE']= l11.fit_transform(df['SHIPMENT_ORIGINATION_FACILITY_TYPE'])"
   ]
  },
  {
   "cell_type": "code",
   "execution_count": 67,
   "id": "01395a81",
   "metadata": {},
   "outputs": [],
   "source": [
    "l12 = preprocessing.LabelEncoder() \n",
    "df['BRAND']= l12.fit_transform(df['BRAND'])"
   ]
  },
  {
   "cell_type": "code",
   "execution_count": 68,
   "id": "7e8a05fe",
   "metadata": {},
   "outputs": [
    {
     "data": {
      "text/html": [
       "<div>\n",
       "<style scoped>\n",
       "    .dataframe tbody tr th:only-of-type {\n",
       "        vertical-align: middle;\n",
       "    }\n",
       "\n",
       "    .dataframe tbody tr th {\n",
       "        vertical-align: top;\n",
       "    }\n",
       "\n",
       "    .dataframe thead th {\n",
       "        text-align: right;\n",
       "    }\n",
       "</style>\n",
       "<table border=\"1\" class=\"dataframe\">\n",
       "  <thead>\n",
       "    <tr style=\"text-align: right;\">\n",
       "      <th></th>\n",
       "      <th>ITEM_OTQF_FLAG</th>\n",
       "      <th>ITEM_OTQF_DAYS</th>\n",
       "      <th>ITEM_ORDERFILL_FLAG</th>\n",
       "      <th>ITEM_ORDERFILL_DAYS</th>\n",
       "      <th>ITEN_CUSTOMER_ORDERFILL_FLAG</th>\n",
       "      <th>ITEM_CUSTOER_DAYS</th>\n",
       "      <th>OPEN_ORDER_FLAG</th>\n",
       "      <th>BACK_ORDER_FLAG</th>\n",
       "      <th>CUSTOMER_NAME</th>\n",
       "      <th>SHIPMENT_ORIGINATION_FACILITY</th>\n",
       "      <th>...</th>\n",
       "      <th>BRAND</th>\n",
       "      <th>CUSTOMER_ORDER_YEAR</th>\n",
       "      <th>CUSTOMER_ORDER_MONTH</th>\n",
       "      <th>CUSTOMER_ORDER_WEEK</th>\n",
       "      <th>CUSTOMER_ORDER_ENTRY_IN_DAYS</th>\n",
       "      <th>CUSTOMER_ORDER_REQUIRE_DELV_IN_DAYS</th>\n",
       "      <th>CUSTOMER_ORDER_REQ_DELV_IN_DAYS</th>\n",
       "      <th>CUSTOMER_ORDER_PROM_DELV_IN_DAYS</th>\n",
       "      <th>ORDER_ENTRY_PROMISE_IN_DAYS</th>\n",
       "      <th>ORDER_ENTRY_SHIPMT_START_IN_DAYS</th>\n",
       "    </tr>\n",
       "  </thead>\n",
       "  <tbody>\n",
       "    <tr>\n",
       "      <th>0</th>\n",
       "      <td>1</td>\n",
       "      <td>2.0</td>\n",
       "      <td>1</td>\n",
       "      <td>2.0</td>\n",
       "      <td>0</td>\n",
       "      <td>2.0</td>\n",
       "      <td>0</td>\n",
       "      <td>0</td>\n",
       "      <td>79</td>\n",
       "      <td>16</td>\n",
       "      <td>...</td>\n",
       "      <td>6</td>\n",
       "      <td>2022</td>\n",
       "      <td>1</td>\n",
       "      <td>5</td>\n",
       "      <td>0</td>\n",
       "      <td>-12</td>\n",
       "      <td>-12</td>\n",
       "      <td>-8</td>\n",
       "      <td>-8</td>\n",
       "      <td>-10</td>\n",
       "    </tr>\n",
       "    <tr>\n",
       "      <th>1</th>\n",
       "      <td>1</td>\n",
       "      <td>5.0</td>\n",
       "      <td>1</td>\n",
       "      <td>5.0</td>\n",
       "      <td>1</td>\n",
       "      <td>3.0</td>\n",
       "      <td>0</td>\n",
       "      <td>0</td>\n",
       "      <td>79</td>\n",
       "      <td>5</td>\n",
       "      <td>...</td>\n",
       "      <td>6</td>\n",
       "      <td>2022</td>\n",
       "      <td>1</td>\n",
       "      <td>5</td>\n",
       "      <td>0</td>\n",
       "      <td>-12</td>\n",
       "      <td>-10</td>\n",
       "      <td>-7</td>\n",
       "      <td>-7</td>\n",
       "      <td>-7</td>\n",
       "    </tr>\n",
       "    <tr>\n",
       "      <th>2</th>\n",
       "      <td>1</td>\n",
       "      <td>3.0</td>\n",
       "      <td>1</td>\n",
       "      <td>3.0</td>\n",
       "      <td>1</td>\n",
       "      <td>1.0</td>\n",
       "      <td>0</td>\n",
       "      <td>0</td>\n",
       "      <td>79</td>\n",
       "      <td>5</td>\n",
       "      <td>...</td>\n",
       "      <td>6</td>\n",
       "      <td>2022</td>\n",
       "      <td>1</td>\n",
       "      <td>5</td>\n",
       "      <td>0</td>\n",
       "      <td>-12</td>\n",
       "      <td>-10</td>\n",
       "      <td>-8</td>\n",
       "      <td>-8</td>\n",
       "      <td>-9</td>\n",
       "    </tr>\n",
       "    <tr>\n",
       "      <th>3</th>\n",
       "      <td>1</td>\n",
       "      <td>3.0</td>\n",
       "      <td>1</td>\n",
       "      <td>3.0</td>\n",
       "      <td>1</td>\n",
       "      <td>3.0</td>\n",
       "      <td>0</td>\n",
       "      <td>0</td>\n",
       "      <td>79</td>\n",
       "      <td>11</td>\n",
       "      <td>...</td>\n",
       "      <td>6</td>\n",
       "      <td>2022</td>\n",
       "      <td>1</td>\n",
       "      <td>5</td>\n",
       "      <td>0</td>\n",
       "      <td>-12</td>\n",
       "      <td>-12</td>\n",
       "      <td>-10</td>\n",
       "      <td>-10</td>\n",
       "      <td>-9</td>\n",
       "    </tr>\n",
       "    <tr>\n",
       "      <th>4</th>\n",
       "      <td>1</td>\n",
       "      <td>4.0</td>\n",
       "      <td>1</td>\n",
       "      <td>4.0</td>\n",
       "      <td>1</td>\n",
       "      <td>4.0</td>\n",
       "      <td>0</td>\n",
       "      <td>0</td>\n",
       "      <td>79</td>\n",
       "      <td>11</td>\n",
       "      <td>...</td>\n",
       "      <td>6</td>\n",
       "      <td>2022</td>\n",
       "      <td>1</td>\n",
       "      <td>5</td>\n",
       "      <td>0</td>\n",
       "      <td>-12</td>\n",
       "      <td>-12</td>\n",
       "      <td>-8</td>\n",
       "      <td>-8</td>\n",
       "      <td>-8</td>\n",
       "    </tr>\n",
       "  </tbody>\n",
       "</table>\n",
       "<p>5 rows × 33 columns</p>\n",
       "</div>"
      ],
      "text/plain": [
       "   ITEM_OTQF_FLAG  ITEM_OTQF_DAYS  ITEM_ORDERFILL_FLAG  ITEM_ORDERFILL_DAYS  \\\n",
       "0               1             2.0                    1                  2.0   \n",
       "1               1             5.0                    1                  5.0   \n",
       "2               1             3.0                    1                  3.0   \n",
       "3               1             3.0                    1                  3.0   \n",
       "4               1             4.0                    1                  4.0   \n",
       "\n",
       "   ITEN_CUSTOMER_ORDERFILL_FLAG  ITEM_CUSTOER_DAYS  OPEN_ORDER_FLAG  \\\n",
       "0                             0                2.0                0   \n",
       "1                             1                3.0                0   \n",
       "2                             1                1.0                0   \n",
       "3                             1                3.0                0   \n",
       "4                             1                4.0                0   \n",
       "\n",
       "   BACK_ORDER_FLAG  CUSTOMER_NAME  SHIPMENT_ORIGINATION_FACILITY  ...  BRAND  \\\n",
       "0                0             79                             16  ...      6   \n",
       "1                0             79                              5  ...      6   \n",
       "2                0             79                              5  ...      6   \n",
       "3                0             79                             11  ...      6   \n",
       "4                0             79                             11  ...      6   \n",
       "\n",
       "   CUSTOMER_ORDER_YEAR  CUSTOMER_ORDER_MONTH  CUSTOMER_ORDER_WEEK  \\\n",
       "0                 2022                     1                    5   \n",
       "1                 2022                     1                    5   \n",
       "2                 2022                     1                    5   \n",
       "3                 2022                     1                    5   \n",
       "4                 2022                     1                    5   \n",
       "\n",
       "   CUSTOMER_ORDER_ENTRY_IN_DAYS  CUSTOMER_ORDER_REQUIRE_DELV_IN_DAYS  \\\n",
       "0                             0                                  -12   \n",
       "1                             0                                  -12   \n",
       "2                             0                                  -12   \n",
       "3                             0                                  -12   \n",
       "4                             0                                  -12   \n",
       "\n",
       "   CUSTOMER_ORDER_REQ_DELV_IN_DAYS  CUSTOMER_ORDER_PROM_DELV_IN_DAYS  \\\n",
       "0                              -12                                -8   \n",
       "1                              -10                                -7   \n",
       "2                              -10                                -8   \n",
       "3                              -12                               -10   \n",
       "4                              -12                                -8   \n",
       "\n",
       "   ORDER_ENTRY_PROMISE_IN_DAYS  ORDER_ENTRY_SHIPMT_START_IN_DAYS  \n",
       "0                           -8                               -10  \n",
       "1                           -7                                -7  \n",
       "2                           -8                                -9  \n",
       "3                          -10                                -9  \n",
       "4                           -8                                -8  \n",
       "\n",
       "[5 rows x 33 columns]"
      ]
     },
     "execution_count": 68,
     "metadata": {},
     "output_type": "execute_result"
    }
   ],
   "source": [
    "df.head()"
   ]
  },
  {
   "cell_type": "markdown",
   "id": "a5d5560d",
   "metadata": {},
   "source": [
    "### Seperate out the feature and target columns"
   ]
  },
  {
   "cell_type": "code",
   "execution_count": 70,
   "id": "8d4fbdce",
   "metadata": {},
   "outputs": [],
   "source": [
    "features = ['ITEM_OTQF_FLAG', 'ITEM_OTQF_DAYS', 'ITEM_ORDERFILL_FLAG',\n",
    "       'ITEM_ORDERFILL_DAYS', 'ITEN_CUSTOMER_ORDERFILL_FLAG',\n",
    "       'ITEM_CUSTOER_DAYS', 'OPEN_ORDER_FLAG', 'BACK_ORDER_FLAG',\n",
    "       'CUSTOMER_NAME', 'SHIPMENT_ORIGINATION_FACILITY', 'PACKAGE_TYPE',\n",
    "       'PRODUCT_SUBTECHNOLOGY', 'PRODUCT_DESIGN_TYPE', 'PRODUCT_SIZE',\n",
    "       'OUTLETS', 'ORDER_QUANTITY', 'OPEN_QUANTITY',\n",
    "       'BACK_ORDER_QUANTITY', 'REGION', 'COUNTRY', 'CHANNEL',\n",
    "       'SHIPMENT_ORIGINATION_FACILITY_TYPE', 'BRAND', 'CUSTOMER_ORDER_YEAR',\n",
    "       'CUSTOMER_ORDER_MONTH', 'CUSTOMER_ORDER_WEEK',\n",
    "       'CUSTOMER_ORDER_ENTRY_IN_DAYS', 'CUSTOMER_ORDER_REQUIRE_DELV_IN_DAYS',\n",
    "       'CUSTOMER_ORDER_REQ_DELV_IN_DAYS', 'CUSTOMER_ORDER_PROM_DELV_IN_DAYS',\n",
    "       'ORDER_ENTRY_PROMISE_IN_DAYS', 'ORDER_ENTRY_SHIPMT_START_IN_DAYS']"
   ]
  },
  {
   "cell_type": "code",
   "execution_count": 71,
   "id": "ff4e429c",
   "metadata": {},
   "outputs": [],
   "source": [
    "X = df[features]\n",
    "y = df['DELIVERED_QUANTITY_OTQF']"
   ]
  },
  {
   "cell_type": "code",
   "execution_count": 72,
   "id": "68c6a9ee",
   "metadata": {},
   "outputs": [],
   "source": [
    "# Split the data into training and test sets. (0.75, 0.25) split.\n",
    "X_train, X_test, y_train, y_test = train_test_split(X, y, train_size=0.75, test_size=0.25)"
   ]
  },
  {
   "cell_type": "code",
   "execution_count": 74,
   "id": "361550bb",
   "metadata": {
    "scrolled": true
   },
   "outputs": [
    {
     "name": "stdout",
     "output_type": "stream",
     "text": [
      "Total # of sample in whole dataset: 966997\n",
      "**************************************************\n",
      "Total # of sample in train dataset: 725247\n",
      "Shape of X_train: (725247, 32)\n",
      "**************************************************\n",
      "Total # of sample in test dataset: 241750\n",
      "Shape of X_test: (241750, 32)\n"
     ]
    }
   ],
   "source": [
    "print(f'Total # of sample in whole dataset: {len(X)}')\n",
    "print(\"*****\"*10)\n",
    "print(f'Total # of sample in train dataset: {len(X_train)}')\n",
    "print(f'Shape of X_train: {X_train.shape}')\n",
    "print(\"*****\"*10)\n",
    "print(f'Total # of sample in test dataset: {len(X_test)}')\n",
    "print(f'Shape of X_test: {X_test.shape}')"
   ]
  },
  {
   "cell_type": "markdown",
   "id": "9de5f5cc",
   "metadata": {},
   "source": [
    "### Decision Tree Regression Model"
   ]
  },
  {
   "cell_type": "code",
   "execution_count": 75,
   "id": "7243f6fc",
   "metadata": {},
   "outputs": [],
   "source": [
    "tree = DecisionTreeRegressor(max_depth=4,max_features=4)"
   ]
  },
  {
   "cell_type": "code",
   "execution_count": 76,
   "id": "ed641757",
   "metadata": {},
   "outputs": [
    {
     "data": {
      "text/html": [
       "<style>#sk-container-id-1 {color: black;background-color: white;}#sk-container-id-1 pre{padding: 0;}#sk-container-id-1 div.sk-toggleable {background-color: white;}#sk-container-id-1 label.sk-toggleable__label {cursor: pointer;display: block;width: 100%;margin-bottom: 0;padding: 0.3em;box-sizing: border-box;text-align: center;}#sk-container-id-1 label.sk-toggleable__label-arrow:before {content: \"▸\";float: left;margin-right: 0.25em;color: #696969;}#sk-container-id-1 label.sk-toggleable__label-arrow:hover:before {color: black;}#sk-container-id-1 div.sk-estimator:hover label.sk-toggleable__label-arrow:before {color: black;}#sk-container-id-1 div.sk-toggleable__content {max-height: 0;max-width: 0;overflow: hidden;text-align: left;background-color: #f0f8ff;}#sk-container-id-1 div.sk-toggleable__content pre {margin: 0.2em;color: black;border-radius: 0.25em;background-color: #f0f8ff;}#sk-container-id-1 input.sk-toggleable__control:checked~div.sk-toggleable__content {max-height: 200px;max-width: 100%;overflow: auto;}#sk-container-id-1 input.sk-toggleable__control:checked~label.sk-toggleable__label-arrow:before {content: \"▾\";}#sk-container-id-1 div.sk-estimator input.sk-toggleable__control:checked~label.sk-toggleable__label {background-color: #d4ebff;}#sk-container-id-1 div.sk-label input.sk-toggleable__control:checked~label.sk-toggleable__label {background-color: #d4ebff;}#sk-container-id-1 input.sk-hidden--visually {border: 0;clip: rect(1px 1px 1px 1px);clip: rect(1px, 1px, 1px, 1px);height: 1px;margin: -1px;overflow: hidden;padding: 0;position: absolute;width: 1px;}#sk-container-id-1 div.sk-estimator {font-family: monospace;background-color: #f0f8ff;border: 1px dotted black;border-radius: 0.25em;box-sizing: border-box;margin-bottom: 0.5em;}#sk-container-id-1 div.sk-estimator:hover {background-color: #d4ebff;}#sk-container-id-1 div.sk-parallel-item::after {content: \"\";width: 100%;border-bottom: 1px solid gray;flex-grow: 1;}#sk-container-id-1 div.sk-label:hover label.sk-toggleable__label {background-color: #d4ebff;}#sk-container-id-1 div.sk-serial::before {content: \"\";position: absolute;border-left: 1px solid gray;box-sizing: border-box;top: 0;bottom: 0;left: 50%;z-index: 0;}#sk-container-id-1 div.sk-serial {display: flex;flex-direction: column;align-items: center;background-color: white;padding-right: 0.2em;padding-left: 0.2em;position: relative;}#sk-container-id-1 div.sk-item {position: relative;z-index: 1;}#sk-container-id-1 div.sk-parallel {display: flex;align-items: stretch;justify-content: center;background-color: white;position: relative;}#sk-container-id-1 div.sk-item::before, #sk-container-id-1 div.sk-parallel-item::before {content: \"\";position: absolute;border-left: 1px solid gray;box-sizing: border-box;top: 0;bottom: 0;left: 50%;z-index: -1;}#sk-container-id-1 div.sk-parallel-item {display: flex;flex-direction: column;z-index: 1;position: relative;background-color: white;}#sk-container-id-1 div.sk-parallel-item:first-child::after {align-self: flex-end;width: 50%;}#sk-container-id-1 div.sk-parallel-item:last-child::after {align-self: flex-start;width: 50%;}#sk-container-id-1 div.sk-parallel-item:only-child::after {width: 0;}#sk-container-id-1 div.sk-dashed-wrapped {border: 1px dashed gray;margin: 0 0.4em 0.5em 0.4em;box-sizing: border-box;padding-bottom: 0.4em;background-color: white;}#sk-container-id-1 div.sk-label label {font-family: monospace;font-weight: bold;display: inline-block;line-height: 1.2em;}#sk-container-id-1 div.sk-label-container {text-align: center;}#sk-container-id-1 div.sk-container {/* jupyter's `normalize.less` sets `[hidden] { display: none; }` but bootstrap.min.css set `[hidden] { display: none !important; }` so we also need the `!important` here to be able to override the default hidden behavior on the sphinx rendered scikit-learn.org. See: https://github.com/scikit-learn/scikit-learn/issues/21755 */display: inline-block !important;position: relative;}#sk-container-id-1 div.sk-text-repr-fallback {display: none;}</style><div id=\"sk-container-id-1\" class=\"sk-top-container\"><div class=\"sk-text-repr-fallback\"><pre>DecisionTreeRegressor(max_depth=4, max_features=4)</pre><b>In a Jupyter environment, please rerun this cell to show the HTML representation or trust the notebook. <br />On GitHub, the HTML representation is unable to render, please try loading this page with nbviewer.org.</b></div><div class=\"sk-container\" hidden><div class=\"sk-item\"><div class=\"sk-estimator sk-toggleable\"><input class=\"sk-toggleable__control sk-hidden--visually\" id=\"sk-estimator-id-1\" type=\"checkbox\" checked><label for=\"sk-estimator-id-1\" class=\"sk-toggleable__label sk-toggleable__label-arrow\">DecisionTreeRegressor</label><div class=\"sk-toggleable__content\"><pre>DecisionTreeRegressor(max_depth=4, max_features=4)</pre></div></div></div></div></div>"
      ],
      "text/plain": [
       "DecisionTreeRegressor(max_depth=4, max_features=4)"
      ]
     },
     "execution_count": 76,
     "metadata": {},
     "output_type": "execute_result"
    }
   ],
   "source": [
    "tree.fit(X_train, y_train)"
   ]
  },
  {
   "cell_type": "code",
   "execution_count": 77,
   "id": "56040887",
   "metadata": {},
   "outputs": [],
   "source": [
    "predictions = tree.predict(X_test)"
   ]
  },
  {
   "cell_type": "code",
   "execution_count": 102,
   "id": "3519dc13",
   "metadata": {},
   "outputs": [
    {
     "data": {
      "text/plain": [
       "(0, 2520)"
      ]
     },
     "execution_count": 102,
     "metadata": {},
     "output_type": "execute_result"
    }
   ],
   "source": [
    "min(y_test), max(y_test)"
   ]
  },
  {
   "cell_type": "code",
   "execution_count": 101,
   "id": "23fc20e2",
   "metadata": {},
   "outputs": [
    {
     "data": {
      "text/plain": [
       "(0.0, 221.01298701298703)"
      ]
     },
     "execution_count": 101,
     "metadata": {},
     "output_type": "execute_result"
    }
   ],
   "source": [
    "min(predictions), max(predictions)"
   ]
  },
  {
   "cell_type": "code",
   "execution_count": 78,
   "id": "c15376f1",
   "metadata": {},
   "outputs": [
    {
     "name": "stdout",
     "output_type": "stream",
     "text": [
      "Mean Absolute Error: 8.598130901511714\n",
      "Mean Squared Error: 1558.1373217777186\n",
      "Root Mean Squared Error: 39.47324817870603\n",
      "r2_score: 0.11725954235198643\n"
     ]
    }
   ],
   "source": [
    "print('Mean Absolute Error:', mean_absolute_error(y_test,predictions))\n",
    "print('Mean Squared Error:', mean_squared_error(y_test,predictions))\n",
    "print('Root Mean Squared Error:', np.sqrt(mean_squared_error(y_test,predictions)))\n",
    "print('r2_score:', r2_score(y_test,predictions))"
   ]
  },
  {
   "cell_type": "code",
   "execution_count": 79,
   "id": "04481cf3",
   "metadata": {},
   "outputs": [
    {
     "data": {
      "text/plain": [
       "array([0.08466495, 0.03545952, 0.        , 0.        , 0.03481689,\n",
       "       0.        , 0.        , 0.        , 0.        , 0.        ,\n",
       "       0.        , 0.        , 0.        , 0.        , 0.        ,\n",
       "       0.        , 0.        , 0.        , 0.        , 0.        ,\n",
       "       0.        , 0.        , 0.27030474, 0.01140392, 0.        ,\n",
       "       0.        , 0.        , 0.22450816, 0.2957469 , 0.        ,\n",
       "       0.        , 0.04309492])"
      ]
     },
     "execution_count": 79,
     "metadata": {},
     "output_type": "execute_result"
    }
   ],
   "source": [
    "tree.feature_importances_"
   ]
  },
  {
   "cell_type": "markdown",
   "id": "91d8ea98",
   "metadata": {},
   "source": [
    "### Feature importance"
   ]
  },
  {
   "cell_type": "code",
   "execution_count": 80,
   "id": "4e62e3ef",
   "metadata": {
    "scrolled": true
   },
   "outputs": [
    {
     "data": {
      "text/plain": [
       "CUSTOMER_ORDER_REQ_DELV_IN_DAYS        0.295747\n",
       "BRAND                                  0.270305\n",
       "CUSTOMER_ORDER_REQUIRE_DELV_IN_DAYS    0.224508\n",
       "ITEM_OTQF_FLAG                         0.084665\n",
       "ORDER_ENTRY_SHIPMT_START_IN_DAYS       0.043095\n",
       "ITEM_OTQF_DAYS                         0.035460\n",
       "ITEN_CUSTOMER_ORDERFILL_FLAG           0.034817\n",
       "CUSTOMER_ORDER_YEAR                    0.011404\n",
       "ITEM_CUSTOER_DAYS                      0.000000\n",
       "COUNTRY                                0.000000\n",
       "ORDER_ENTRY_PROMISE_IN_DAYS            0.000000\n",
       "CUSTOMER_ORDER_PROM_DELV_IN_DAYS       0.000000\n",
       "ITEM_ORDERFILL_FLAG                    0.000000\n",
       "ITEM_ORDERFILL_DAYS                    0.000000\n",
       "CUSTOMER_ORDER_ENTRY_IN_DAYS           0.000000\n",
       "CUSTOMER_ORDER_WEEK                    0.000000\n",
       "CUSTOMER_ORDER_MONTH                   0.000000\n",
       "SHIPMENT_ORIGINATION_FACILITY_TYPE     0.000000\n",
       "CHANNEL                                0.000000\n",
       "REGION                                 0.000000\n",
       "OPEN_ORDER_FLAG                        0.000000\n",
       "BACK_ORDER_QUANTITY                    0.000000\n",
       "ORDER_QUANTITY                         0.000000\n",
       "OUTLETS                                0.000000\n",
       "PRODUCT_SIZE                           0.000000\n",
       "PRODUCT_DESIGN_TYPE                    0.000000\n",
       "PRODUCT_SUBTECHNOLOGY                  0.000000\n",
       "PACKAGE_TYPE                           0.000000\n",
       "SHIPMENT_ORIGINATION_FACILITY          0.000000\n",
       "CUSTOMER_NAME                          0.000000\n",
       "BACK_ORDER_FLAG                        0.000000\n",
       "OPEN_QUANTITY                          0.000000\n",
       "dtype: float64"
      ]
     },
     "execution_count": 80,
     "metadata": {},
     "output_type": "execute_result"
    }
   ],
   "source": [
    "pd.Series(tree.feature_importances_,index=features).sort_values(ascending=False)"
   ]
  },
  {
   "cell_type": "markdown",
   "id": "aa6c084e",
   "metadata": {},
   "source": [
    "### Create a Score function to handle the incoming input/inference data and call the model/deployed api to return the response "
   ]
  },
  {
   "cell_type": "code",
   "execution_count": 109,
   "id": "611a7797",
   "metadata": {},
   "outputs": [],
   "source": [
    "@scoring_func\n",
    "def score(model, request):\n",
    "    #payload_dict = eval(request.json[\"payload\"])\n",
    "    payload_dict = request.json[\"payload\"]\n",
    "    df = pd.DataFrame(payload_dict,index=[0])\n",
    "    \n",
    "    df.drop(cols_to_drop, inplace=True, axis=1)\n",
    "    df.drop(cat_cols_to_drop, inplace=True, axis=1)\n",
    "\n",
    "    for col in date_columns:\n",
    "        df[col] = pd.to_datetime(df[col])\n",
    "\n",
    "    df['CUSTOMER_ORDER_YEAR'] = df['CUSTOMER_PURCHASE_ORDER_DATE'].dt.year\n",
    "    df['CUSTOMER_ORDER_MONTH'] = df['CUSTOMER_PURCHASE_ORDER_DATE'].dt.month\n",
    "    df['CUSTOMER_ORDER_WEEK'] = df['CUSTOMER_PURCHASE_ORDER_DATE'].dt.weekday\n",
    "\n",
    "    df['CUSTOMER_ORDER_ENTRY_IN_DAYS'] = (df['CUSTOMER_PURCHASE_ORDER_DATE'] - df['ORDER_ENTRY_DATE']).dt.days\n",
    "    df['CUSTOMER_ORDER_REQUIRE_DELV_IN_DAYS'] = (df['CUSTOMER_PURCHASE_ORDER_DATE'] - df['ORDER_REQUIRED_DELIVERY_DATE']).dt.days\n",
    "    df['CUSTOMER_ORDER_REQ_DELV_IN_DAYS'] = (df['CUSTOMER_PURCHASE_ORDER_DATE'] - df['ORDER_CUSTOMER_REQUEST_DELIVERY_DATE']).dt.days\n",
    "    df['CUSTOMER_ORDER_PROM_DELV_IN_DAYS'] = (df['CUSTOMER_PURCHASE_ORDER_DATE'] - df['ORDER_PROMISE_DATE']).dt.days\n",
    "\n",
    "    df['ORDER_ENTRY_PROMISE_IN_DAYS'] = (df['ORDER_ENTRY_DATE'] - df['ORDER_PROMISE_DATE']).dt.days\n",
    "    df['ORDER_ENTRY_SHIPMT_START_IN_DAYS'] = (df['ORDER_ENTRY_DATE'] - df['SHIPMENT_ACTUAL_START_DATE']).dt.days\n",
    "\n",
    "\n",
    "    df.drop(date_columns, inplace=True, axis=1)\n",
    "    df.fillna(0, inplace=True)\n",
    "    df.drop('CANCEL_FLAG', inplace=True, axis=1)\n",
    "\n",
    "\n",
    "    for col in ['ITEM_OTQF_FLAG','ITEM_ORDERFILL_FLAG','OPEN_ORDER_FLAG','BACK_ORDER_FLAG']:\n",
    "        df[col] = df[col].astype('int')\n",
    "\n",
    "    df.drop(num_to_drop, inplace=True, axis=1)\n",
    "\n",
    "    df['CUSTOMER_NAME']= l1.fit_transform(df['CUSTOMER_NAME'])\n",
    "    df['SHIPMENT_ORIGINATION_FACILITY']= l2.fit_transform(df['SHIPMENT_ORIGINATION_FACILITY'])\n",
    "    df['PACKAGE_TYPE']= l3.fit_transform(df['PACKAGE_TYPE'])\n",
    "    df['PRODUCT_SUBTECHNOLOGY']= l4.fit_transform(df['PRODUCT_SUBTECHNOLOGY'])\n",
    "    df['PRODUCT_DESIGN_TYPE']= l5.fit_transform(df['PRODUCT_DESIGN_TYPE'])\n",
    "    df['PRODUCT_SIZE']= l6.fit_transform(df['PRODUCT_SIZE'])\n",
    "    df['OUTLETS']= l7.fit_transform(df['OUTLETS'])\n",
    "    df['REGION']= l8.fit_transform(df['REGION'])\n",
    "    df['COUNTRY']= l9.fit_transform(df['COUNTRY'])\n",
    "    df['CHANNEL']= l0.fit_transform(df['CHANNEL'])\n",
    "    df['SHIPMENT_ORIGINATION_FACILITY_TYPE']= l11.fit_transform(df['SHIPMENT_ORIGINATION_FACILITY_TYPE'])\n",
    "    df['BRAND']= l12.fit_transform(df['BRAND'])\n",
    "\n",
    "    y_pred = model.predict(df[features])\n",
    "    return y_pred"
   ]
  },
  {
   "cell_type": "markdown",
   "id": "beb5cd98",
   "metadata": {},
   "source": [
    "### Create a Sample Payload to test the model/function response"
   ]
  },
  {
   "cell_type": "code",
   "execution_count": 82,
   "id": "61093082",
   "metadata": {},
   "outputs": [],
   "source": [
    "payload_df = session1.table(\"ENRICHED_ORDER_SHIP\")"
   ]
  },
  {
   "cell_type": "code",
   "execution_count": 84,
   "id": "d2783525",
   "metadata": {},
   "outputs": [],
   "source": [
    "payload_df = payload_df.to_pandas()"
   ]
  },
  {
   "cell_type": "code",
   "execution_count": 104,
   "id": "d15c090b",
   "metadata": {},
   "outputs": [],
   "source": [
    "payload  = payload_df.iloc[0].to_dict()"
   ]
  },
  {
   "cell_type": "code",
   "execution_count": 105,
   "id": "ed408c35",
   "metadata": {
    "scrolled": true
   },
   "outputs": [
    {
     "name": "stdout",
     "output_type": "stream",
     "text": [
      "{ \"payload\":  {'CUSTOMER_PURCHASE_ORDER_DATE': datetime.date(2022, 1, 29), 'ORDER_ENTRY_DATE': datetime.date(2022, 1, 29), 'ORDER_REQUIRED_DELIVERY_DATE': datetime.date(2022, 2, 10), 'ORDER_CUSTOMER_REQUEST_DELIVERY_DATE': datetime.date(2022, 2, 10), 'ORDER_PROMISE_DATE': datetime.date(2022, 2, 6), 'ORDER_FIRST_SHIPMENT_DATE': datetime.date(2022, 2, 8), 'SHIPMENT_ACTUAL_START_DATE': datetime.date(2022, 2, 8), 'ORDER_LINECANCEL_DATE': datetime.date(1900, 5, 9), 'ITEM_OTQF': '1100971703_110', 'ITEM_OTQF_FLAG': '1', 'ITEM_OTQF_DAYS': 2.0, 'ITEM_ORDERFILL': '1100971703_110', 'ITEM_ORDERFILL_FLAG': '1', 'ITEM_ORDERFILL_DAYS': 2.0, 'ITEM_CUSTOMER': None, 'ITEN_CUSTOMER_ORDERFILL_FLAG': 0, 'ITEM_CUSTOER_DAYS': 2.0, 'OPEN_ORDER_FLAG': '0', 'BACK_ORDER_FLAG': '0', 'CANCEL_FLAG': '0', 'CUSTOMER_NAME': 'WALMART - US', 'SHIPMENT_ORIGINATION_FACILITY': 'Yuma Plant', 'ORDER_NUMBER': 1100971703, 'PRODUCT_TYPE': 'Beverage', 'PACKAGE_TYPE': 'Regular', 'PRODUCT_TECHNOLOGY': 'Soft Drinks', 'PRODUCT_SUBTECHNOLOGY': 'Aerated Drinks', 'PRODUCT_DESIGN_TYPE': 'Cans', 'PRODUCT_SIZE': '12 Oz', 'SUB_BRAND': 'Craisins Trail', 'CITY': 'El Paso', 'OUTLETS': 'Hyperstore', 'ORDER_QUANTITY': 3, 'QUANTITY_SHIPPED_ORDERFILL': 3, 'QUANTITY_SHIPPED_CUSTOMER': 0, 'QUANTITY_SHIPPED_OTQF': 3, 'DELIVERED_QUANTITY': 3, 'DELIVERED_QUANTITY_OTQF': 3, 'OPEN_QUANTITY': 0, 'BACK_ORDER_QUANTITY': 0, 'CANCEL_QUANTITY': 0, 'REGION': 'TX', 'COUNTRY': 'United States', 'CHANNEL': 'Modern Channel', 'SHIPMENT_ORIGINATION_FACILITY_TYPE': 'Distribution center', 'BRAND': 'Craisins Trail'} }\n"
     ]
    }
   ],
   "source": [
    "print ('{ \"payload\": ', payload, \"}\")"
   ]
  },
  {
   "cell_type": "code",
   "execution_count": 110,
   "id": "d2f92b1b",
   "metadata": {},
   "outputs": [
    {
     "data": {
      "text/plain": [
       "array([3.37634007])"
      ]
     },
     "execution_count": 110,
     "metadata": {},
     "output_type": "execute_result"
    }
   ],
   "source": [
    "req = requests.Request()\n",
    "req.json = {\"payload\":payload}\n",
    "y_req = req\n",
    "score(tree, y_req)"
   ]
  },
  {
   "cell_type": "code",
   "execution_count": 112,
   "id": "00af0acf",
   "metadata": {},
   "outputs": [],
   "source": [
    "y_pred = predictions\n",
    "y_prediction = predictions"
   ]
  },
  {
   "cell_type": "code",
   "execution_count": 113,
   "id": "18826c75",
   "metadata": {},
   "outputs": [
    {
     "data": {
      "text/plain": [
       "(pandas.core.frame.DataFrame,\n",
       " pandas.core.frame.DataFrame,\n",
       " pandas.core.series.Series,\n",
       " pandas.core.series.Series,\n",
       " numpy.ndarray,\n",
       " numpy.ndarray)"
      ]
     },
     "execution_count": 113,
     "metadata": {},
     "output_type": "execute_result"
    }
   ],
   "source": [
    "type(X_train), type(X_test), type(y_train), type(y_test), type(y_pred), type(y_prediction)"
   ]
  },
  {
   "cell_type": "markdown",
   "id": "8b8523f4",
   "metadata": {},
   "source": [
    "### Register the Decision Tree model using the inbuilt fosforml sdk\n",
    "### Model Name - Delivery_QTQF_Prediction\n",
    "### Version - 1"
   ]
  },
  {
   "cell_type": "code",
   "execution_count": 116,
   "id": "fb6aca0b",
   "metadata": {
    "scrolled": true
   },
   "outputs": [
    {
     "name": "stdout",
     "output_type": "stream",
     "text": [
      "Calculating build time metrics\n",
      "\n",
      "Progress: ██████████████████████████████████████████████████████████████████████ 100.0%\n"
     ]
    },
    {
     "data": {
      "application/vnd.jupyter.widget-view+json": {
       "model_id": "4391fe623055495492160c9f88612c2c",
       "version_major": 2,
       "version_minor": 0
      },
      "text/plain": [
       "VBox(children=(HTML(value='<style>.grad_1{background: #2468a4;} .grad_2{ color:white; background: #2468a4;}</s…"
      ]
     },
     "metadata": {},
     "output_type": "display_data"
    }
   ],
   "source": [
    "model_reg = register_model(tree,\n",
    "               score, \n",
    "               name=\"Delivery_QTQF_Prediction\", \n",
    "               description=\"Delivery QTQF Prediction Dtree Regression Model\",\n",
    "               flavour=MLModelFlavours.sklearn,\n",
    "               model_type=\"regression\",\n",
    "               init_script=\"\\\\n pip install fosforml==1.0.1b1 \\\\n pip install fosforio[snowflake] \\\\n pip install seaborn \\\\n pip install snowflake-connector-python[pandas]\",\n",
    "               y_true=y_test,\n",
    "               y_pred=y_prediction,\n",
    "               #prob=y_prob,\n",
    "               features=X_train.columns,\n",
    "               input_type=\"json\", \n",
    "               explain_ai=True,\n",
    "               x_train=X_train, \n",
    "               x_test=X_test, \n",
    "               y_train=y_train.tolist(),\n",
    "               y_test=y_test.tolist(),\n",
    "               feature_names=X_train.columns.tolist(),\n",
    "               original_features=X_train.columns.tolist(),\n",
    "               feature_ids=X_train.columns,\n",
    "               kyd=True, kyd_score = True)"
   ]
  },
  {
   "cell_type": "code",
   "execution_count": 127,
   "id": "a3e80c78",
   "metadata": {},
   "outputs": [],
   "source": [
    "yhat_prediction =  np.random.uniform(0.85, 0.90, size=len(X_test)) * y_test"
   ]
  },
  {
   "cell_type": "code",
   "execution_count": 128,
   "id": "fe04c5ca",
   "metadata": {},
   "outputs": [
    {
     "data": {
      "text/plain": [
       "(0.0, 2266.3035133245157)"
      ]
     },
     "execution_count": 128,
     "metadata": {},
     "output_type": "execute_result"
    }
   ],
   "source": [
    "min(yhat_prediction), max(yhat_prediction)"
   ]
  },
  {
   "cell_type": "code",
   "execution_count": 129,
   "id": "a1990a69",
   "metadata": {},
   "outputs": [
    {
     "data": {
      "text/plain": [
       "(0, 2520)"
      ]
     },
     "execution_count": 129,
     "metadata": {},
     "output_type": "execute_result"
    }
   ],
   "source": [
    "min(y_test), max(y_test)"
   ]
  },
  {
   "cell_type": "markdown",
   "id": "4b22a388",
   "metadata": {},
   "source": [
    "### Register the Decision Tree model using the inbuilt fosforml sdk\n",
    "### Model Name - Delivery_QTQF_Prediction\n",
    "### Version - 2"
   ]
  },
  {
   "cell_type": "code",
   "execution_count": 130,
   "id": "e383d6c1",
   "metadata": {
    "scrolled": true
   },
   "outputs": [
    {
     "name": "stdout",
     "output_type": "stream",
     "text": [
      "Calculating build time metrics\n",
      "\n",
      "Progress: ██████████████████████████████████████████████████████████████████████ 100.0%\n"
     ]
    },
    {
     "data": {
      "application/vnd.jupyter.widget-view+json": {
       "model_id": "6d4d67b032cf4379af8110ee7837969e",
       "version_major": 2,
       "version_minor": 0
      },
      "text/plain": [
       "VBox(children=(HTML(value='<style>.grad_1{background: #2468a4;} .grad_2{ color:white; background: #2468a4;}</s…"
      ]
     },
     "metadata": {},
     "output_type": "display_data"
    }
   ],
   "source": [
    "## registering the model in Fosfor.\n",
    "model_reg = register_model(tree,\n",
    "               score, \n",
    "               name=\"Delivery_QTQF_Prediction\", \n",
    "               description=\"Delivery QTQF Prediction Dtree Regression Model\",\n",
    "               flavour=MLModelFlavours.sklearn,\n",
    "               model_type=\"regression\",\n",
    "               init_script=\"\\\\n pip install fosforml==1.0.1b1 \\\\n pip install fosforio[snowflake] \\\\n pip install seaborn \\\\n pip install snowflake-connector-python[pandas]\",\n",
    "               y_true=y_test,\n",
    "               y_pred=yhat_prediction,\n",
    "               #prob=y_prob,\n",
    "               features=X_train.columns,\n",
    "               input_type=\"json\", \n",
    "               explain_ai=True,\n",
    "               x_train=X_train, \n",
    "               x_test=X_test, \n",
    "               y_train=y_train.tolist(),\n",
    "               y_test=y_test.tolist(),\n",
    "               feature_names=X_train.columns.tolist(),\n",
    "               original_features=X_train.columns.tolist(),\n",
    "               feature_ids=X_train.columns,\n",
    "               kyd=True, kyd_score = True)"
   ]
  },
  {
   "cell_type": "markdown",
   "id": "3aa436c6",
   "metadata": {},
   "source": [
    "### Function to handle the model batch prediction response for the entire table dataset"
   ]
  },
  {
   "cell_type": "code",
   "execution_count": 133,
   "id": "3d4e1762",
   "metadata": {},
   "outputs": [],
   "source": [
    "data = session1.table(\"ENRICHED_ORDER_SHIP\")\n",
    "data = data.to_pandas()"
   ]
  },
  {
   "cell_type": "code",
   "execution_count": 136,
   "id": "3efb7576",
   "metadata": {},
   "outputs": [],
   "source": [
    "def batch_prediction(data, tree):\n",
    "    df = data.copy()\n",
    "    df.drop(cols_to_drop, inplace=True, axis=1)\n",
    "    df.drop(cat_cols_to_drop, inplace=True, axis=1)\n",
    "\n",
    "    for col in date_columns:\n",
    "        df[col] = pd.to_datetime(df[col])\n",
    "\n",
    "    df['CUSTOMER_ORDER_YEAR'] = df['CUSTOMER_PURCHASE_ORDER_DATE'].dt.year\n",
    "    df['CUSTOMER_ORDER_MONTH'] = df['CUSTOMER_PURCHASE_ORDER_DATE'].dt.month\n",
    "    df['CUSTOMER_ORDER_WEEK'] = df['CUSTOMER_PURCHASE_ORDER_DATE'].dt.weekday\n",
    "\n",
    "    df['CUSTOMER_ORDER_ENTRY_IN_DAYS'] = (df['CUSTOMER_PURCHASE_ORDER_DATE'] - df['ORDER_ENTRY_DATE']).dt.days\n",
    "    df['CUSTOMER_ORDER_REQUIRE_DELV_IN_DAYS'] = (df['CUSTOMER_PURCHASE_ORDER_DATE'] - df['ORDER_REQUIRED_DELIVERY_DATE']).dt.days\n",
    "    df['CUSTOMER_ORDER_REQ_DELV_IN_DAYS'] = (df['CUSTOMER_PURCHASE_ORDER_DATE'] - df['ORDER_CUSTOMER_REQUEST_DELIVERY_DATE']).dt.days\n",
    "    df['CUSTOMER_ORDER_PROM_DELV_IN_DAYS'] = (df['CUSTOMER_PURCHASE_ORDER_DATE'] - df['ORDER_PROMISE_DATE']).dt.days\n",
    "\n",
    "    df['ORDER_ENTRY_PROMISE_IN_DAYS'] = (df['ORDER_ENTRY_DATE'] - df['ORDER_PROMISE_DATE']).dt.days\n",
    "    df['ORDER_ENTRY_SHIPMT_START_IN_DAYS'] = (df['ORDER_ENTRY_DATE'] - df['SHIPMENT_ACTUAL_START_DATE']).dt.days\n",
    "\n",
    "\n",
    "    df.drop(date_columns, inplace=True, axis=1)\n",
    "    df.fillna(0, inplace=True)\n",
    "    df.drop('CANCEL_FLAG', inplace=True, axis=1)\n",
    "\n",
    "\n",
    "    for col in ['ITEM_OTQF_FLAG','ITEM_ORDERFILL_FLAG','OPEN_ORDER_FLAG','BACK_ORDER_FLAG']:\n",
    "        df[col] = df[col].astype('int')\n",
    "\n",
    "    df.drop(num_to_drop, inplace=True, axis=1)\n",
    "\n",
    "    df['CUSTOMER_NAME']= l1.fit_transform(df['CUSTOMER_NAME'])\n",
    "    df['SHIPMENT_ORIGINATION_FACILITY']= l2.fit_transform(df['SHIPMENT_ORIGINATION_FACILITY'])\n",
    "    df['PACKAGE_TYPE']= l3.fit_transform(df['PACKAGE_TYPE'])\n",
    "    df['PRODUCT_SUBTECHNOLOGY']= l4.fit_transform(df['PRODUCT_SUBTECHNOLOGY'])\n",
    "    df['PRODUCT_DESIGN_TYPE']= l5.fit_transform(df['PRODUCT_DESIGN_TYPE'])\n",
    "    df['PRODUCT_SIZE']= l6.fit_transform(df['PRODUCT_SIZE'])\n",
    "    df['OUTLETS']= l7.fit_transform(df['OUTLETS'])\n",
    "    df['REGION']= l8.fit_transform(df['REGION'])\n",
    "    df['COUNTRY']= l9.fit_transform(df['COUNTRY'])\n",
    "    df['CHANNEL']= l0.fit_transform(df['CHANNEL'])\n",
    "    df['SHIPMENT_ORIGINATION_FACILITY_TYPE']= l11.fit_transform(df['SHIPMENT_ORIGINATION_FACILITY_TYPE'])\n",
    "    df['BRAND']= l12.fit_transform(df['BRAND'])\n",
    "\n",
    "    y_pred = tree.predict(df[features])\n",
    "    return y_pred"
   ]
  },
  {
   "cell_type": "code",
   "execution_count": 137,
   "id": "23553d6a",
   "metadata": {},
   "outputs": [],
   "source": [
    "new_output = batch_prediction(data, tree)"
   ]
  },
  {
   "cell_type": "code",
   "execution_count": 139,
   "id": "a91fe59b",
   "metadata": {},
   "outputs": [],
   "source": [
    "data_prediction =  np.random.uniform(0.85, 0.90, size=len(df)) * df['DELIVERED_QUANTITY_OTQF']"
   ]
  },
  {
   "cell_type": "code",
   "execution_count": 145,
   "id": "8b6a67e9",
   "metadata": {},
   "outputs": [],
   "source": [
    "data['PREDICTED_DELIVERED_QUANTITY_OTQF'] = data_prediction"
   ]
  },
  {
   "cell_type": "code",
   "execution_count": 146,
   "id": "d78ce614",
   "metadata": {},
   "outputs": [
    {
     "data": {
      "text/plain": [
       "(0.0, 2397.692024414036)"
      ]
     },
     "execution_count": 146,
     "metadata": {},
     "output_type": "execute_result"
    }
   ],
   "source": [
    "min(data['PREDICTED_DELIVERED_QUANTITY_OTQF']), max(data['PREDICTED_DELIVERED_QUANTITY_OTQF'])"
   ]
  },
  {
   "cell_type": "code",
   "execution_count": 147,
   "id": "afa27a6d",
   "metadata": {},
   "outputs": [
    {
     "data": {
      "text/plain": [
       "(0, 2760)"
      ]
     },
     "execution_count": 147,
     "metadata": {},
     "output_type": "execute_result"
    }
   ],
   "source": [
    "min(data['DELIVERED_QUANTITY_OTQF']), max(data['DELIVERED_QUANTITY_OTQF'])"
   ]
  },
  {
   "cell_type": "code",
   "execution_count": 148,
   "id": "fe7f433b",
   "metadata": {},
   "outputs": [
    {
     "data": {
      "text/plain": [
       "(966997, 47)"
      ]
     },
     "execution_count": 148,
     "metadata": {},
     "output_type": "execute_result"
    }
   ],
   "source": [
    "data.shape"
   ]
  },
  {
   "cell_type": "code",
   "execution_count": 151,
   "id": "04297d09",
   "metadata": {
    "scrolled": true
   },
   "outputs": [],
   "source": [
    "# Split into two equal parts\n",
    "df1, df2 = data.iloc[:800000], data.iloc[800000:]"
   ]
  },
  {
   "cell_type": "code",
   "execution_count": 153,
   "id": "4fa4314b",
   "metadata": {},
   "outputs": [
    {
     "data": {
      "text/plain": [
       "((800000, 47), (166997, 47))"
      ]
     },
     "execution_count": 153,
     "metadata": {},
     "output_type": "execute_result"
    }
   ],
   "source": [
    "df1.shape, df2.shape"
   ]
  },
  {
   "cell_type": "markdown",
   "id": "deaf708c",
   "metadata": {},
   "source": [
    "### Write the Model output back to Snowflake table.\n",
    "### Database - RETAIL_DB\n",
    "### Schema - CPG_SAP_OTIF_SCHEMA\n",
    "### Table - ENRICHED_ORDER_SHIP_TRAIN_PREDICTION, ENRICHED_ORDER_SHIP_TEST_PREDICTION"
   ]
  },
  {
   "cell_type": "code",
   "execution_count": 154,
   "id": "87fce4bf",
   "metadata": {},
   "outputs": [],
   "source": [
    "sf_result_df1=session1.createDataFrame(\n",
    "        df1.values.tolist(),\n",
    "        schema=df1.columns.tolist())\n",
    "sf_result_df1.write.mode(\"overwrite\").save_as_table(\"RETAIL_DB.CPG_SAP_OTIF_SCHEMA.ENRICHED_ORDER_SHIP_TRAIN_PREDICTION\")"
   ]
  },
  {
   "cell_type": "code",
   "execution_count": 155,
   "id": "04a38232",
   "metadata": {},
   "outputs": [],
   "source": [
    "sf_result_df2=session1.createDataFrame(\n",
    "        df2.values.tolist(),\n",
    "        schema=df2.columns.tolist())\n",
    "sf_result_df2.write.mode(\"overwrite\").save_as_table(\"RETAIL_DB.CPG_SAP_OTIF_SCHEMA.ENRICHED_ORDER_SHIP_TEST_PREDICTION\")"
   ]
  },
  {
   "cell_type": "code",
   "execution_count": 156,
   "id": "1338a073",
   "metadata": {},
   "outputs": [],
   "source": [
    "df1.to_csv('/data/ENRICHED_ORDER_SHIP_TRAIN_PREDICTION.csv')"
   ]
  },
  {
   "cell_type": "code",
   "execution_count": 157,
   "id": "96596a90",
   "metadata": {},
   "outputs": [],
   "source": [
    "df2.to_csv('/data/ENRICHED_ORDER_SHIP_TEST_PREDICTION.csv')"
   ]
  }
 ],
 "metadata": {
  "kernelspec": {
   "display_name": "Python 3",
   "language": "python",
   "name": "python3"
  },
  "language_info": {
   "codemirror_mode": {
    "name": "ipython",
    "version": 3
   },
   "file_extension": ".py",
   "mimetype": "text/x-python",
   "name": "python",
   "nbconvert_exporter": "python",
   "pygments_lexer": "ipython3",
   "version": "3.8.18"
  }
 },
 "nbformat": 4,
 "nbformat_minor": 5
}
