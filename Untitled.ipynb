{
 "cells": [
  {
   "cell_type": "code",
   "execution_count": null,
   "id": "838d272f-50d6-43b7-bfe9-75861d0e7140",
   "metadata": {},
   "outputs": [
    {
     "name": "stdout",
     "output_type": "stream",
     "text": [
      "Requirement already satisfied: openai in /opt/conda/lib/python3.9/site-packages (1.56.2)\n",
      "Collecting langchain\n",
      "\u001b[?25l  Downloading https://files.pythonhosted.org/packages/7d/04/1990e724a3cc3cc858f48f524facabbcab6857b5690ddf1f747899e0baab/langchain-0.3.9-py3-none-any.whl (1.0MB)\n",
      "\u001b[K     |████████████████████████████████| 1.0MB 7.8MB/s eta 0:00:01\n",
      "\u001b[?25hCollecting sentence-transformers\n",
      "\u001b[?25l  Downloading https://files.pythonhosted.org/packages/8b/c8/990e22a465e4771338da434d799578865d6d7ef1fdb50bd844b7ecdcfa19/sentence_transformers-3.3.1-py3-none-any.whl (268kB)\n",
      "\u001b[K     |████████████████████████████████| 276kB 37.9MB/s eta 0:00:01\n",
      "\u001b[?25hCollecting chromadb\n",
      "\u001b[?25l  Downloading https://files.pythonhosted.org/packages/92/8c/a9eb95a28e6c35a0122417976a9d435eeaceb53f596a8973e33b3dd4cfac/chromadb-0.5.23-py3-none-any.whl (628kB)\n",
      "\u001b[K     |████████████████████████████████| 634kB 90.1MB/s eta 0:00:01\n",
      "\u001b[?25hRequirement already satisfied: anyio<5,>=3.5.0 in /opt/conda/lib/python3.9/site-packages (from openai) (4.4.0)\n",
      "Requirement already satisfied: sniffio in /opt/conda/lib/python3.9/site-packages (from openai) (1.3.1)\n",
      "Requirement already satisfied: httpx<1,>=0.23.0 in /opt/conda/lib/python3.9/site-packages (from openai) (0.27.0)\n",
      "Requirement already satisfied: jiter<1,>=0.4.0 in /opt/conda/lib/python3.9/site-packages (from openai) (0.8.0)\n",
      "Requirement already satisfied: typing-extensions<5,>=4.11 in /opt/conda/lib/python3.9/site-packages (from openai) (4.12.2)\n",
      "Requirement already satisfied: distro<2,>=1.7.0 in /opt/conda/lib/python3.9/site-packages (from openai) (1.9.0)\n",
      "Requirement already satisfied: tqdm>4 in /opt/conda/lib/python3.9/site-packages (from openai) (4.66.4)\n",
      "Requirement already satisfied: pydantic<3,>=1.9.0 in /opt/conda/lib/python3.9/site-packages (from openai) (2.9.2)\n",
      "Requirement already satisfied: tenacity!=8.4.0,<10,>=8.1.0 in /opt/conda/lib/python3.9/site-packages (from langchain) (8.5.0)\n",
      "Collecting langchain-text-splitters<0.4.0,>=0.3.0\n",
      "  Downloading https://files.pythonhosted.org/packages/ee/c6/5ba25c8bad647e92a92b3066177ab10d78efbd16c0b9919948cdcd18b027/langchain_text_splitters-0.3.2-py3-none-any.whl\n",
      "Requirement already satisfied: requests<3,>=2 in /opt/conda/lib/python3.9/site-packages (from langchain) (2.32.3)\n",
      "Requirement already satisfied: aiohttp<4.0.0,>=3.8.3 in /opt/conda/lib/python3.9/site-packages (from langchain) (3.11.9)\n",
      "Collecting async-timeout<5.0.0,>=4.0.0; python_version < \"3.11\"\n",
      "  Downloading https://files.pythonhosted.org/packages/a7/fa/e01228c2938de91d47b307831c62ab9e4001e747789d0b05baf779a6488c/async_timeout-4.0.3-py3-none-any.whl\n",
      "Collecting langsmith<0.2.0,>=0.1.17\n",
      "\u001b[?25l  Downloading https://files.pythonhosted.org/packages/de/f0/63b06b99b730b9954f8709f6f7d9b8d076fa0a973e472efe278089bde42b/langsmith-0.1.147-py3-none-any.whl (311kB)\n",
      "\u001b[K     |████████████████████████████████| 317kB 69.0MB/s eta 0:00:01\n",
      "\u001b[?25hCollecting langchain-core<0.4.0,>=0.3.21\n",
      "\u001b[?25l  Downloading https://files.pythonhosted.org/packages/9b/50/e0bd90fc481d1cc8c2039ad6161b20fc8e396a7cba6064a4f1e8e5afea62/langchain_core-0.3.21-py3-none-any.whl (409kB)\n",
      "\u001b[K     |████████████████████████████████| 409kB 56.0MB/s eta 0:00:01\n",
      "\u001b[?25hRequirement already satisfied: numpy<2,>=1.22.4; python_version < \"3.12\" in /opt/conda/lib/python3.9/site-packages (from langchain) (1.26.4)\n",
      "Requirement already satisfied: PyYAML>=5.3 in /opt/conda/lib/python3.9/site-packages (from langchain) (6.0.1)\n",
      "Requirement already satisfied: SQLAlchemy<3,>=1.4 in /opt/conda/lib/python3.9/site-packages (from langchain) (2.0.36)\n",
      "Collecting huggingface-hub>=0.20.0\n",
      "\u001b[?25l  Downloading https://files.pythonhosted.org/packages/95/9b/3068fb3ae0b498eb66960ca5f4d92a81c91458cacd4dc17bfa6d40ce90fb/huggingface_hub-0.26.3-py3-none-any.whl (447kB)\n",
      "\u001b[K     |████████████████████████████████| 450kB 93.8MB/s eta 0:00:01\n",
      "\u001b[?25hCollecting scipy\n",
      "\u001b[?25l  Downloading https://files.pythonhosted.org/packages/35/f5/d0ad1a96f80962ba65e2ce1de6a1e59edecd1f0a7b55990ed208848012e0/scipy-1.13.1-cp39-cp39-manylinux_2_17_x86_64.manylinux2014_x86_64.whl (38.6MB)\n",
      "\u001b[K     |████████████████████████████████| 38.6MB 94.2MB/s eta 0:00:01\n",
      "\u001b[?25hCollecting torch>=1.11.0\n",
      "\u001b[?25l  Downloading https://files.pythonhosted.org/packages/a9/18/81c399e8f4f1580d34bf99d827cb5fb5cf7a18a266bb5d30ca3ec2e89ba6/torch-2.5.1-cp39-cp39-manylinux1_x86_64.whl (906.5MB)\n",
      "\u001b[K     |███████████▉                    | 335.6MB 98.1MB/s eta 0:00:066     |█████████▎                      | 262.4MB 98.1MB/s eta 0:00:07"
     ]
    },
    {
     "name": "stderr",
     "output_type": "stream",
     "text": [
      "IOPub data rate exceeded.\n",
      "The Jupyter server will temporarily stop sending output\n",
      "to the client in order to avoid crashing it.\n",
      "To change this limit, set the config variable\n",
      "`--ServerApp.iopub_data_rate_limit`.\n",
      "\n",
      "Current values:\n",
      "ServerApp.iopub_data_rate_limit=1000000.0 (bytes/sec)\n",
      "ServerApp.rate_limit_window=3.0 (secs)\n",
      "\n"
     ]
    },
    {
     "name": "stdout",
     "output_type": "stream",
     "text": [
      "\u001b[K     |████████████████████████        | 678.9MB 125.3MB/s eta 0:00:02[K     |██████████████████▌             | 525.0MB 142.6MB/s eta 0:00:03��████████████████████▊          | 613.8MB 142.6MB/s eta 0:00:03"
     ]
    },
    {
     "name": "stderr",
     "output_type": "stream",
     "text": [
      "IOPub data rate exceeded.\n",
      "The Jupyter server will temporarily stop sending output\n",
      "to the client in order to avoid crashing it.\n",
      "To change this limit, set the config variable\n",
      "`--ServerApp.iopub_data_rate_limit`.\n",
      "\n",
      "Current values:\n",
      "ServerApp.iopub_data_rate_limit=1000000.0 (bytes/sec)\n",
      "ServerApp.rate_limit_window=3.0 (secs)\n",
      "\n"
     ]
    },
    {
     "name": "stdout",
     "output_type": "stream",
     "text": [
      "\u001b[K     |████████████████████████████████| 906.5MB 137.9MB/s eta 0:00:01███████▌| 891.0MB 120.9MB/s eta 0:00:01"
     ]
    }
   ],
   "source": [
    "!pip install openai langchain sentence-transformers chromadb"
   ]
  },
  {
   "cell_type": "code",
   "execution_count": 4,
   "id": "47b5849f-cf9e-4ef7-9ebf-3015691ed99c",
   "metadata": {},
   "outputs": [
    {
     "name": "stdout",
     "output_type": "stream",
     "text": [
      "Requirement already satisfied: common in /opt/conda/lib/python3.9/site-packages (0.1.2)\n",
      "\u001b[33mWARNING: You are using pip version 19.3.1; however, version 24.3.1 is available.\n",
      "You should consider upgrading via the 'pip install --upgrade pip' command.\u001b[0m\n",
      "Note: you may need to restart the kernel to use updated packages.\n"
     ]
    }
   ],
   "source": [
    "pip install common"
   ]
  },
  {
   "cell_type": "code",
   "execution_count": 6,
   "id": "97b7a06a-c02f-4d69-a68a-26fbd4d18bac",
   "metadata": {},
   "outputs": [],
   "source": [
    "import sys\n",
    "sys.path.insert(0, os.path.abspath('..'))\n",
    "\n"
   ]
  },
  {
   "cell_type": "code",
   "execution_count": 5,
   "id": "8d613f53-35f2-4923-8c73-68f66e48a9f4",
   "metadata": {},
   "outputs": [],
   "source": [
    "import os\n",
    "import openai\n"
   ]
  },
  {
   "cell_type": "code",
   "execution_count": 9,
   "id": "2ba26497-596f-420d-8769-0127465ae32a",
   "metadata": {},
   "outputs": [
    {
     "name": "stdout",
     "output_type": "stream",
     "text": [
      "Collecting llama_index\n",
      "  Downloading https://files.pythonhosted.org/packages/c6/bb/246df812f2561c22d74bcf8c592200ddc24e434eef82c5c36d79e4645e33/llama_index-0.12.2-py3-none-any.whl\n",
      "Collecting llama-index-cli<0.5.0,>=0.4.0\n",
      "  Downloading https://files.pythonhosted.org/packages/70/29/2b659e5930ea44253bf99e2afc395daaa2a3edaa579d99e63ea53df03313/llama_index_cli-0.4.0-py3-none-any.whl\n",
      "Collecting llama-index-indices-managed-llama-cloud>=0.4.0\n",
      "  Downloading https://files.pythonhosted.org/packages/43/c6/ebb53a15e63c8da3633a595f53fc965509e8c6707da6a8b1bfa9b7923236/llama_index_indices_managed_llama_cloud-0.6.3-py3-none-any.whl\n",
      "Collecting llama-index-core<0.13.0,>=0.12.2\n",
      "\u001b[?25l  Downloading https://files.pythonhosted.org/packages/4a/d2/fd12c616a24e4583b7c8a9c339cd42065cd75cdebe1f01b206fc615501b4/llama_index_core-0.12.2-py3-none-any.whl (1.6MB)\n",
      "\u001b[K     |████████████████████████████████| 1.6MB 23.1MB/s eta 0:00:01\n",
      "\u001b[?25hCollecting llama-index-llms-openai<0.4.0,>=0.3.0\n",
      "  Downloading https://files.pythonhosted.org/packages/2a/3f/417e694183337a2fe4f39068ab461909848e72bef73321627e8e1d1f806c/llama_index_llms_openai-0.3.2-py3-none-any.whl\n",
      "Collecting nltk>3.8.1\n",
      "\u001b[?25l  Downloading https://files.pythonhosted.org/packages/4d/66/7d9e26593edda06e8cb531874633f7c2372279c3b0f46235539fe546df8b/nltk-3.9.1-py3-none-any.whl (1.5MB)\n",
      "\u001b[K     |████████████████████████████████| 1.5MB 98.1MB/s eta 0:00:01\n",
      "\u001b[?25hCollecting llama-index-legacy<0.10.0,>=0.9.48\n",
      "\u001b[?25l  Downloading https://files.pythonhosted.org/packages/7b/47/ffb4a02d6d499a1207c89f0214e8a72f0437fb7da46ec4927d239ec10520/llama_index_legacy-0.9.48.post4-py3-none-any.whl (1.2MB)\n",
      "\u001b[K     |████████████████████████████████| 1.2MB 104.3MB/s eta 0:00:01\n",
      "\u001b[?25hCollecting llama-index-program-openai<0.4.0,>=0.3.0\n",
      "  Downloading https://files.pythonhosted.org/packages/00/59/3f31171c30a08c8ba21155d5241ba174630e57cf43b03d97fd77bf565b51/llama_index_program_openai-0.3.1-py3-none-any.whl\n",
      "Collecting llama-index-readers-llama-parse>=0.4.0\n",
      "  Downloading https://files.pythonhosted.org/packages/68/4f/e30d4257fe9e4224f5612b77fe99aaceddae411b2e74ca30534491de3e6f/llama_index_readers_llama_parse-0.4.0-py3-none-any.whl\n",
      "Collecting llama-index-multi-modal-llms-openai<0.4.0,>=0.3.0\n",
      "  Downloading https://files.pythonhosted.org/packages/32/c0/3e9649e8ab66a1cd95947a6871222cbea63a52d50b99bae67b72fc5a8c2d/llama_index_multi_modal_llms_openai-0.3.0-py3-none-any.whl\n",
      "Collecting llama-index-question-gen-openai<0.4.0,>=0.3.0\n",
      "  Downloading https://files.pythonhosted.org/packages/7c/2c/765b0dfc2c988bbea267e236c836d7a96c60a20df76d842e43e17401f800/llama_index_question_gen_openai-0.3.0-py3-none-any.whl\n",
      "Collecting llama-index-agent-openai<0.5.0,>=0.4.0\n",
      "  Downloading https://files.pythonhosted.org/packages/6e/18/4c59c7be22c5baed00d006705a82a5cbad0c3f1463a8fb6e16df29c7ea4a/llama_index_agent_openai-0.4.0-py3-none-any.whl\n",
      "Collecting llama-index-embeddings-openai<0.4.0,>=0.3.0\n",
      "  Downloading https://files.pythonhosted.org/packages/bb/45/ca55b91c4ac1b6251d4099fa44121a6c012129822906cadcc27b8cfb33a4/llama_index_embeddings_openai-0.3.1-py3-none-any.whl\n",
      "Collecting llama-index-readers-file<0.5.0,>=0.4.0\n",
      "  Downloading https://files.pythonhosted.org/packages/a7/c0/b410d03c364b5773015e0b520580cf2ce9e4a7e568ae1f3704034cb5f083/llama_index_readers_file-0.4.0-py3-none-any.whl\n",
      "Collecting llama-cloud>=0.1.5\n",
      "\u001b[?25l  Downloading https://files.pythonhosted.org/packages/ad/58/b2049d1216197f97e7c4b9001bccc1b4f82fbaa4540b5e664f08875e9418/llama_cloud-0.1.6-py3-none-any.whl (195kB)\n",
      "\u001b[K     |████████████████████████████████| 204kB 110.9MB/s eta 0:00:01\n",
      "\u001b[?25hCollecting deprecated>=1.2.9.3\n",
      "  Downloading https://files.pythonhosted.org/packages/1d/8f/c7f227eb42cfeaddce3eb0c96c60cbca37797fa7b34f8e1aeadf6c5c0983/Deprecated-1.2.15-py2.py3-none-any.whl\n",
      "Requirement already satisfied: typing-extensions>=4.5.0 in /opt/conda/lib/python3.9/site-packages (from llama-index-core<0.13.0,>=0.12.2->llama_index) (4.12.2)\n",
      "Collecting dirtyjson<2.0.0,>=1.0.8\n",
      "  Downloading https://files.pythonhosted.org/packages/68/69/1bcf70f81de1b4a9f21b3a62ec0c83bdff991c88d6cc2267d02408457e88/dirtyjson-1.0.8-py3-none-any.whl\n",
      "Collecting typing-inspect>=0.8.0\n",
      "  Downloading https://files.pythonhosted.org/packages/65/f3/107a22063bf27bdccf2024833d3445f4eea42b2e598abfbd46f6a63b6cb0/typing_inspect-0.9.0-py3-none-any.whl\n",
      "Requirement already satisfied: numpy in /opt/conda/lib/python3.9/site-packages (from llama-index-core<0.13.0,>=0.12.2->llama_index) (1.26.4)\n",
      "Requirement already satisfied: httpx in /opt/conda/lib/python3.9/site-packages (from llama-index-core<0.13.0,>=0.12.2->llama_index) (0.27.0)\n",
      "Collecting networkx>=3.0\n",
      "\u001b[?25l  Downloading https://files.pythonhosted.org/packages/d5/f0/8fbc882ca80cf077f1b246c0e3c3465f7f415439bdea6b899f6b19f61f70/networkx-3.2.1-py3-none-any.whl (1.6MB)\n",
      "\u001b[K     |████████████████████████████████| 1.6MB 99.3MB/s eta 0:00:01\n",
      "\u001b[?25hCollecting SQLAlchemy[asyncio]>=1.4.49\n",
      "\u001b[?25l  Downloading https://files.pythonhosted.org/packages/18/f6/afaef83a3fbeff40b9289508b985c5630c0e8303d08106a0117447c680d9/SQLAlchemy-2.0.36-cp39-cp39-manylinux_2_17_x86_64.manylinux2014_x86_64.whl (3.1MB)\n",
      "\u001b[K     |████████████████████████████████| 3.1MB 71.6MB/s eta 0:00:01\n",
      "\u001b[?25hCollecting tiktoken>=0.3.3\n",
      "\u001b[?25l  Downloading https://files.pythonhosted.org/packages/c2/e1/6c7a772e0200131e960e3381f1d7b26406bc5612c70677989c1498af2a60/tiktoken-0.8.0-cp39-cp39-manylinux_2_17_x86_64.manylinux2014_x86_64.whl (1.2MB)\n",
      "\u001b[K     |████████████████████████████████| 1.2MB 88.6MB/s eta 0:00:01\n",
      "\u001b[?25hCollecting aiohttp<4.0.0,>=3.8.6\n",
      "\u001b[?25l  Downloading https://files.pythonhosted.org/packages/39/f5/b8e4339cf555d9bdf4fb9c834c5671ec03bc0c84bb6387d6e8dddfbddc4d/aiohttp-3.11.9-cp39-cp39-manylinux_2_17_x86_64.manylinux2014_x86_64.whl (1.6MB)\n",
      "\u001b[K     |████████████████████████████████| 1.6MB 57.1MB/s eta 0:00:01\n",
      "\u001b[?25hCollecting dataclasses-json\n",
      "  Downloading https://files.pythonhosted.org/packages/c3/be/d0d44e092656fe7a06b55e6103cbce807cdbdee17884a5367c68c9860853/dataclasses_json-0.6.7-py3-none-any.whl\n",
      "Collecting eval-type-backport<0.3.0,>=0.2.0; python_version < \"3.10\"\n",
      "  Downloading https://files.pythonhosted.org/packages/ac/ac/aa3d8e0acbcd71140420bc752d7c9779cf3a2a3bb1d7ef30944e38b2cd39/eval_type_backport-0.2.0-py3-none-any.whl\n",
      "Collecting fsspec>=2023.5.0\n",
      "\u001b[?25l  Downloading https://files.pythonhosted.org/packages/c6/b2/454d6e7f0158951d8a78c2e1eb4f69ae81beb8dca5fee9809c6c99e9d0d0/fsspec-2024.10.0-py3-none-any.whl (179kB)\n",
      "\u001b[K     |████████████████████████████████| 184kB 117.2MB/s eta 0:00:01\n",
      "\u001b[?25hCollecting pydantic<2.10.0,>=2.7.0\n",
      "\u001b[?25l  Downloading https://files.pythonhosted.org/packages/df/e4/ba44652d562cbf0bf320e0f3810206149c8a4e99cdbf66da82e97ab53a15/pydantic-2.9.2-py3-none-any.whl (434kB)\n",
      "\u001b[K     |████████████████████████████████| 440kB 105.6MB/s eta 0:00:01\n",
      "\u001b[?25hCollecting filetype<2.0.0,>=1.2.0\n",
      "  Downloading https://files.pythonhosted.org/packages/18/79/1b8fa1bb3568781e84c9200f951c735f3f157429f44be0495da55894d620/filetype-1.2.0-py2.py3-none-any.whl\n",
      "Requirement already satisfied: tqdm<5.0.0,>=4.66.1 in /opt/conda/lib/python3.9/site-packages (from llama-index-core<0.13.0,>=0.12.2->llama_index) (4.66.4)\n",
      "Collecting wrapt\n",
      "\u001b[?25l  Downloading https://files.pythonhosted.org/packages/94/5c/03c911442b01b50e364572581430e12f82c3f5ea74d302907c1449d7ba36/wrapt-1.17.0-cp39-cp39-manylinux_2_5_x86_64.manylinux1_x86_64.manylinux_2_17_x86_64.manylinux2014_x86_64.whl (82kB)\n",
      "\u001b[K     |████████████████████████████████| 92kB 27.5MB/s  eta 0:00:01\n",
      "\u001b[?25hCollecting pillow>=9.0.0\n",
      "\u001b[?25l  Downloading https://files.pythonhosted.org/packages/14/b1/c8f428bae932a27ce9c87e7b21aba8ea3e820aa11413c5a795868c37e039/pillow-11.0.0-cp39-cp39-manylinux_2_17_x86_64.manylinux2014_x86_64.whl (4.3MB)\n",
      "\u001b[K     |████████████████████████████████| 4.3MB 76.5MB/s eta 0:00:01\n",
      "\u001b[?25hRequirement already satisfied: PyYAML>=6.0.1 in /opt/conda/lib/python3.9/site-packages (from llama-index-core<0.13.0,>=0.12.2->llama_index) (6.0.1)\n",
      "Requirement already satisfied: requests>=2.31.0 in /opt/conda/lib/python3.9/site-packages (from llama-index-core<0.13.0,>=0.12.2->llama_index) (2.32.3)\n",
      "Requirement already satisfied: nest-asyncio<2.0.0,>=1.5.8 in /opt/conda/lib/python3.9/site-packages (from llama-index-core<0.13.0,>=0.12.2->llama_index) (1.6.0)\n",
      "Collecting tenacity!=8.4.0,<9.0.0,>=8.2.0\n",
      "  Downloading https://files.pythonhosted.org/packages/d2/3f/8ba87d9e287b9d385a02a7114ddcef61b26f86411e121c9003eb509a1773/tenacity-8.5.0-py3-none-any.whl\n",
      "Requirement already satisfied: openai<2.0.0,>=1.40.0 in /opt/conda/lib/python3.9/site-packages (from llama-index-llms-openai<0.4.0,>=0.3.0->llama_index) (1.56.2)\n",
      "Collecting click\n",
      "\u001b[?25l  Downloading https://files.pythonhosted.org/packages/00/2e/d53fa4befbf2cfa713304affc7ca780ce4fc1fd8710527771b58311a3229/click-8.1.7-py3-none-any.whl (97kB)\n",
      "\u001b[K     |████████████████████████████████| 102kB 26.9MB/s ta 0:00:011\n",
      "\u001b[?25hCollecting joblib\n",
      "\u001b[?25l  Downloading https://files.pythonhosted.org/packages/91/29/df4b9b42f2be0b623cbd5e2140cafcaa2bef0759a00b7b70104dcfe2fb51/joblib-1.4.2-py3-none-any.whl (301kB)\n",
      "\u001b[K     |████████████████████████████████| 307kB 84.6MB/s eta 0:00:01\n",
      "\u001b[?25hCollecting regex>=2021.8.3\n",
      "\u001b[?25l  Downloading https://files.pythonhosted.org/packages/86/44/2101cc0890c3621b90365c9ee8d7291a597c0722ad66eccd6ffa7f1bcc09/regex-2024.11.6-cp39-cp39-manylinux_2_17_x86_64.manylinux2014_x86_64.whl (780kB)\n",
      "\u001b[K     |████████████████████████████████| 788kB 75.5MB/s eta 0:00:01\n",
      "\u001b[?25hRequirement already satisfied: pandas in /opt/conda/lib/python3.9/site-packages (from llama-index-legacy<0.10.0,>=0.9.48->llama_index) (2.2.0)\n",
      "Collecting llama-parse>=0.5.0\n",
      "  Downloading https://files.pythonhosted.org/packages/7d/34/07b9ad5b6523e6137c2f8ca4a80d876c1aec392bab231f646073d103ec44/llama_parse-0.5.16-py3-none-any.whl\n",
      "Collecting pypdf<6.0.0,>=5.1.0\n",
      "\u001b[?25l  Downloading https://files.pythonhosted.org/packages/04/fc/6f52588ac1cb4400a7804ef88d0d4e00cfe57a7ac6793ec3b00de5a8758b/pypdf-5.1.0-py3-none-any.whl (297kB)\n",
      "\u001b[K     |████████████████████████████████| 307kB 108.6MB/s eta 0:00:01\n",
      "\u001b[?25hRequirement already satisfied: beautifulsoup4<5.0.0,>=4.12.3 in /opt/conda/lib/python3.9/site-packages (from llama-index-readers-file<0.5.0,>=0.4.0->llama_index) (4.12.3)\n",
      "Collecting striprtf<0.0.27,>=0.0.26\n",
      "  Downloading https://files.pythonhosted.org/packages/a3/cf/0fea4f4ba3fc2772ac2419278aa9f6964124d4302117d61bc055758e000c/striprtf-0.0.26-py3-none-any.whl\n",
      "Collecting mypy-extensions>=0.3.0\n",
      "  Downloading https://files.pythonhosted.org/packages/2a/e2/5d3f6ada4297caebe1a2add3b126fe800c96f56dbe5d1988a2cbe0b267aa/mypy_extensions-1.0.0-py3-none-any.whl\n",
      "Requirement already satisfied: httpcore==1.* in /opt/conda/lib/python3.9/site-packages (from httpx->llama-index-core<0.13.0,>=0.12.2->llama_index) (1.0.5)\n",
      "Requirement already satisfied: anyio in /opt/conda/lib/python3.9/site-packages (from httpx->llama-index-core<0.13.0,>=0.12.2->llama_index) (4.4.0)\n",
      "Requirement already satisfied: idna in /opt/conda/lib/python3.9/site-packages (from httpx->llama-index-core<0.13.0,>=0.12.2->llama_index) (3.7)\n",
      "Requirement already satisfied: certifi in /opt/conda/lib/python3.9/site-packages (from httpx->llama-index-core<0.13.0,>=0.12.2->llama_index) (2024.7.4)\n",
      "Requirement already satisfied: sniffio in /opt/conda/lib/python3.9/site-packages (from httpx->llama-index-core<0.13.0,>=0.12.2->llama_index) (1.3.1)\n",
      "Collecting greenlet!=0.4.17; python_version < \"3.13\" and (platform_machine == \"aarch64\" or (platform_machine == \"ppc64le\" or (platform_machine == \"x86_64\" or (platform_machine == \"amd64\" or (platform_machine == \"AMD64\" or (platform_machine == \"win32\" or platform_machine == \"WIN32\"))))))\n",
      "\u001b[?25l  Downloading https://files.pythonhosted.org/packages/03/d3/1006543621f16689f6dc75f6bcf06e3c23e044c26fe391c16c253623313e/greenlet-3.1.1-cp39-cp39-manylinux_2_17_x86_64.manylinux2014_x86_64.whl (641kB)\n",
      "\u001b[K     |████████████████████████████████| 645kB 102.1MB/s eta 0:00:01\n",
      "\u001b[?25hCollecting aiohappyeyeballs>=2.3.0\n",
      "  Downloading https://files.pythonhosted.org/packages/b9/74/fbb6559de3607b3300b9be3cc64e97548d55678e44623db17820dbd20002/aiohappyeyeballs-2.4.4-py3-none-any.whl\n",
      "Collecting yarl<2.0,>=1.17.0\n",
      "\u001b[?25l  Downloading https://files.pythonhosted.org/packages/a2/2a/167447ae39252ba624b98b8c13c0ba35994d40d9110e8a724c83dbbb5822/yarl-1.18.3-cp39-cp39-manylinux_2_17_x86_64.manylinux2014_x86_64.whl (321kB)\n",
      "\u001b[K     |████████████████████████████████| 327kB 92.1MB/s eta 0:00:01\n",
      "\u001b[?25hCollecting multidict<7.0,>=4.5\n",
      "\u001b[?25l  Downloading https://files.pythonhosted.org/packages/5e/41/0d0fb18c1ad574f807196f5f3d99164edf9de3e169a58c6dc2d6ed5742b9/multidict-6.1.0-cp39-cp39-manylinux_2_17_x86_64.manylinux2014_x86_64.whl (124kB)\n",
      "\u001b[K     |████████████████████████████████| 133kB 85.9MB/s eta 0:00:01\n",
      "\u001b[?25hRequirement already satisfied: attrs>=17.3.0 in /opt/conda/lib/python3.9/site-packages (from aiohttp<4.0.0,>=3.8.6->llama-index-core<0.13.0,>=0.12.2->llama_index) (23.2.0)\n",
      "Collecting propcache>=0.2.0\n",
      "\u001b[?25l  Downloading https://files.pythonhosted.org/packages/69/c0/560e050aa6d31eeece3490d1174da508f05ab27536dfc8474af88b97160a/propcache-0.2.1-cp39-cp39-manylinux_2_17_x86_64.manylinux2014_x86_64.whl (208kB)\n",
      "\u001b[K     |████████████████████████████████| 215kB 92.6MB/s eta 0:00:01\n",
      "\u001b[?25hCollecting async-timeout<6.0,>=4.0; python_version < \"3.11\"\n",
      "  Downloading https://files.pythonhosted.org/packages/fe/ba/e2081de779ca30d473f21f5b30e0e737c438205440784c7dfc81efc2b029/async_timeout-5.0.1-py3-none-any.whl\n",
      "Collecting aiosignal>=1.1.2\n",
      "  Downloading https://files.pythonhosted.org/packages/76/ac/a7305707cb852b7e16ff80eaf5692309bde30e2b1100a1fcacdc8f731d97/aiosignal-1.3.1-py3-none-any.whl\n",
      "Collecting frozenlist>=1.1.1\n",
      "\u001b[?25l  Downloading https://files.pythonhosted.org/packages/f6/33/9f152105227630246135188901373c4f322cc026565ca6215b063f4c82f4/frozenlist-1.5.0-cp39-cp39-manylinux_2_5_x86_64.manylinux1_x86_64.manylinux_2_17_x86_64.manylinux2014_x86_64.whl (242kB)\n",
      "\u001b[K     |████████████████████████████████| 245kB 105.1MB/s eta 0:00:01\n",
      "\u001b[?25hCollecting marshmallow<4.0.0,>=3.18.0\n",
      "\u001b[?25l  Downloading https://files.pythonhosted.org/packages/ac/a7/a78ff54e67ef92a3d12126b98eb98ab8abab3de4a8c46d240c87e514d6bb/marshmallow-3.23.1-py3-none-any.whl (49kB)\n",
      "\u001b[K     |████████████████████████████████| 51kB 14.7MB/s eta 0:00:01\n",
      "\u001b[?25hCollecting pydantic-core==2.23.4\n",
      "\u001b[?25l  Downloading https://files.pythonhosted.org/packages/6c/ea/8820f57f0b46e6148ee42d8216b15e8fe3b360944284bbc705bf34fac888/pydantic_core-2.23.4-cp39-cp39-manylinux_2_17_x86_64.manylinux2014_x86_64.whl (2.1MB)\n",
      "\u001b[K     |████████████████████████████████| 2.1MB 108.8MB/s eta 0:00:01\n",
      "\u001b[?25hRequirement already satisfied: annotated-types>=0.6.0 in /opt/conda/lib/python3.9/site-packages (from pydantic<2.10.0,>=2.7.0->llama-index-core<0.13.0,>=0.12.2->llama_index) (0.7.0)\n",
      "Requirement already satisfied: urllib3<3,>=1.21.1 in /opt/conda/lib/python3.9/site-packages (from requests>=2.31.0->llama-index-core<0.13.0,>=0.12.2->llama_index) (2.2.2)\n",
      "Requirement already satisfied: charset-normalizer<4,>=2 in /opt/conda/lib/python3.9/site-packages (from requests>=2.31.0->llama-index-core<0.13.0,>=0.12.2->llama_index) (3.3.2)\n",
      "Requirement already satisfied: jiter<1,>=0.4.0 in /opt/conda/lib/python3.9/site-packages (from openai<2.0.0,>=1.40.0->llama-index-llms-openai<0.4.0,>=0.3.0->llama_index) (0.8.0)\n",
      "Requirement already satisfied: distro<2,>=1.7.0 in /opt/conda/lib/python3.9/site-packages (from openai<2.0.0,>=1.40.0->llama-index-llms-openai<0.4.0,>=0.3.0->llama_index) (1.9.0)\n",
      "Requirement already satisfied: pytz>=2020.1 in /opt/conda/lib/python3.9/site-packages (from pandas->llama-index-legacy<0.10.0,>=0.9.48->llama_index) (2024.1)\n",
      "Requirement already satisfied: python-dateutil>=2.8.2 in /opt/conda/lib/python3.9/site-packages (from pandas->llama-index-legacy<0.10.0,>=0.9.48->llama_index) (2.9.0.post0)\n",
      "Requirement already satisfied: tzdata>=2022.7 in /opt/conda/lib/python3.9/site-packages (from pandas->llama-index-legacy<0.10.0,>=0.9.48->llama_index) (2024.1)\n",
      "Requirement already satisfied: soupsieve>1.2 in /opt/conda/lib/python3.9/site-packages (from beautifulsoup4<5.0.0,>=4.12.3->llama-index-readers-file<0.5.0,>=0.4.0->llama_index) (2.5)\n",
      "Requirement already satisfied: h11<0.15,>=0.13 in /opt/conda/lib/python3.9/site-packages (from httpcore==1.*->httpx->llama-index-core<0.13.0,>=0.12.2->llama_index) (0.14.0)\n",
      "Requirement already satisfied: exceptiongroup>=1.0.2; python_version < \"3.11\" in /opt/conda/lib/python3.9/site-packages (from anyio->httpx->llama-index-core<0.13.0,>=0.12.2->llama_index) (1.2.2)\n",
      "Requirement already satisfied: packaging>=17.0 in /opt/conda/lib/python3.9/site-packages (from marshmallow<4.0.0,>=3.18.0->dataclasses-json->llama-index-core<0.13.0,>=0.12.2->llama_index) (24.1)\n",
      "Requirement already satisfied: six>=1.5 in /opt/conda/lib/python3.9/site-packages (from python-dateutil>=2.8.2->pandas->llama-index-legacy<0.10.0,>=0.9.48->llama_index) (1.16.0)\n",
      "Installing collected packages: wrapt, deprecated, dirtyjson, mypy-extensions, typing-inspect, networkx, greenlet, SQLAlchemy, regex, tiktoken, aiohappyeyeballs, propcache, multidict, yarl, async-timeout, frozenlist, aiosignal, aiohttp, marshmallow, dataclasses-json, eval-type-backport, fsspec, pydantic-core, pydantic, filetype, pillow, click, joblib, nltk, tenacity, llama-index-core, llama-index-embeddings-openai, llama-index-llms-openai, llama-index-cli, llama-cloud, llama-index-indices-managed-llama-cloud, llama-index-legacy, llama-index-agent-openai, llama-index-program-openai, llama-parse, llama-index-readers-llama-parse, llama-index-multi-modal-llms-openai, llama-index-question-gen-openai, pypdf, striprtf, llama-index-readers-file, llama-index\n",
      "  Found existing installation: pydantic-core 2.27.1\n",
      "    Uninstalling pydantic-core-2.27.1:\n",
      "      Successfully uninstalled pydantic-core-2.27.1\n",
      "  Found existing installation: pydantic 2.10.3\n",
      "    Uninstalling pydantic-2.10.3:\n",
      "      Successfully uninstalled pydantic-2.10.3\n",
      "Successfully installed SQLAlchemy-2.0.36 aiohappyeyeballs-2.4.4 aiohttp-3.11.9 aiosignal-1.3.1 async-timeout-5.0.1 click-8.1.7 dataclasses-json-0.6.7 deprecated-1.2.15 dirtyjson-1.0.8 eval-type-backport-0.2.0 filetype-1.2.0 frozenlist-1.5.0 fsspec-2024.10.0 greenlet-3.1.1 joblib-1.4.2 llama-cloud-0.1.6 llama-index-0.12.2 llama-index-agent-openai-0.4.0 llama-index-cli-0.4.0 llama-index-core-0.12.2 llama-index-embeddings-openai-0.3.1 llama-index-indices-managed-llama-cloud-0.6.3 llama-index-legacy-0.9.48.post4 llama-index-llms-openai-0.3.2 llama-index-multi-modal-llms-openai-0.3.0 llama-index-program-openai-0.3.1 llama-index-question-gen-openai-0.3.0 llama-index-readers-file-0.4.0 llama-index-readers-llama-parse-0.4.0 llama-parse-0.5.16 marshmallow-3.23.1 multidict-6.1.0 mypy-extensions-1.0.0 networkx-3.2.1 nltk-3.9.1 pillow-11.0.0 propcache-0.2.1 pydantic-2.9.2 pydantic-core-2.23.4 pypdf-5.1.0 regex-2024.11.6 striprtf-0.0.26 tenacity-8.5.0 tiktoken-0.8.0 typing-inspect-0.9.0 wrapt-1.17.0 yarl-1.18.3\n",
      "\u001b[33mWARNING: You are using pip version 19.3.1; however, version 24.3.1 is available.\n",
      "You should consider upgrading via the 'pip install --upgrade pip' command.\u001b[0m\n",
      "Note: you may need to restart the kernel to use updated packages.\n"
     ]
    }
   ],
   "source": [
    "pip install llama_index"
   ]
  },
  {
   "cell_type": "code",
   "execution_count": 1,
   "id": "7673bc4b-12cd-4ae8-a7a1-9dd2221bda8f",
   "metadata": {},
   "outputs": [
    {
     "ename": "ImportError",
     "evalue": "cannot import name 'SimpleDirectoryReader' from 'llama_index' (unknown location)",
     "output_type": "error",
     "traceback": [
      "\u001b[0;31m---------------------------------------------------------------------------\u001b[0m",
      "\u001b[0;31mImportError\u001b[0m                               Traceback (most recent call last)",
      "Cell \u001b[0;32mIn[1], line 1\u001b[0m\n\u001b[0;32m----> 1\u001b[0m \u001b[38;5;28;01mfrom\u001b[39;00m \u001b[38;5;21;01mllama_index\u001b[39;00m \u001b[38;5;28;01mimport\u001b[39;00m SimpleDirectoryReader\n\u001b[1;32m      3\u001b[0m documents \u001b[38;5;241m=\u001b[39m SimpleDirectoryReader(\n\u001b[1;32m      4\u001b[0m     input_files\u001b[38;5;241m=\u001b[39m[\u001b[38;5;124m\"\u001b[39m\u001b[38;5;124m../data/Henry.txt\u001b[39m\u001b[38;5;124m\"\u001b[39m]\n\u001b[1;32m      5\u001b[0m )\u001b[38;5;241m.\u001b[39mload_data()\n",
      "\u001b[0;31mImportError\u001b[0m: cannot import name 'SimpleDirectoryReader' from 'llama_index' (unknown location)"
     ]
    }
   ],
   "source": [
    "from llama_index import SimpleDirectoryReader\n",
    "\n",
    "documents = SimpleDirectoryReader(\n",
    "    input_files=[\"../data/Henry.txt\"]\n",
    ").load_data()"
   ]
  }
 ],
 "metadata": {
  "kernelspec": {
   "display_name": "Python 3 (ipykernel)",
   "language": "python",
   "name": "python3"
  },
  "language_info": {
   "codemirror_mode": {
    "name": "ipython",
    "version": 3
   },
   "file_extension": ".py",
   "mimetype": "text/x-python",
   "name": "python",
   "nbconvert_exporter": "python",
   "pygments_lexer": "ipython3",
   "version": "3.9.19"
  }
 },
 "nbformat": 4,
 "nbformat_minor": 5
}
