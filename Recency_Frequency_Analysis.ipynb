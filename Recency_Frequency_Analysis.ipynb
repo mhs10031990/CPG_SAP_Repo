{
 "cells": [
  {
   "cell_type": "code",
   "execution_count": 1,
   "id": "777df4d0",
   "metadata": {},
   "outputs": [
    {
     "name": "stdout",
     "output_type": "stream",
     "text": [
      "Connection manager service url initialised to http://fdc-project-manager:80/project-manager\n",
      "If you need to update its value then update the variable CONNECTION_MANAGER_BASE_URL in os env.\n"
     ]
    }
   ],
   "source": [
    "from fosforio import snowflake"
   ]
  },
  {
   "cell_type": "code",
   "execution_count": 6,
   "id": "6ef45f73",
   "metadata": {},
   "outputs": [
    {
     "name": "stdout",
     "output_type": "stream",
     "text": [
      "Existing connection object fetched: <snowflake.connector.connection.SnowflakeConnection object at 0x7f97640ea4c0>\n",
      "Please close the connection after use!\n"
     ]
    },
    {
     "data": {
      "text/plain": [
       "<snowflake.connector.connection.SnowflakeConnection at 0x7f97640ea4c0>"
      ]
     },
     "execution_count": 6,
     "metadata": {},
     "output_type": "execute_result"
    }
   ],
   "source": [
    "# To get snowflake connection object with a default snowflake connection created by the user, if available.\n",
    "snowflake.get_connection()"
   ]
  },
  {
   "cell_type": "code",
   "execution_count": 2,
   "id": "7193da6a",
   "metadata": {
    "scrolled": true
   },
   "outputs": [
    {
     "name": "stdout",
     "output_type": "stream",
     "text": [
      "Connection object created: <snowflake.connector.connection.SnowflakeConnection object at 0x7f87140fc490>\n",
      "Please close the connection after use!\n"
     ]
    },
    {
     "data": {
      "text/plain": [
       "<snowflake.connector.connection.SnowflakeConnection at 0x7f87140fc490>"
      ]
     },
     "execution_count": 2,
     "metadata": {},
     "output_type": "execute_result"
    }
   ],
   "source": [
    "# To get snowflake connection object with a default snowflake connection created by the user, if available.\n",
    "snowflake.get_connection(\"SF_OTIF_CXN\")"
   ]
  },
  {
   "cell_type": "code",
   "execution_count": 4,
   "id": "04363048",
   "metadata": {},
   "outputs": [
    {
     "name": "stdout",
     "output_type": "stream",
     "text": [
      "Connection details fetched: {'errorCode': 'CNM-404', 'message': 'Asset not found', 'detailMessage': 'Datasource not found by name RETAIL_DB.CPG_SAP_OTIF_SCHEMA.ENRICHED_ORDER_SHIP', 'timeStamp': '2024-07-19 02:41:19.215', 'api': '/v1/external/getConnConfig/{dataSourceName}/{userId}/{projectId}'}\n",
      "Ex: 'params'\n",
      "Exception occurred in reading data_frame from snowflake connection: Exception occurred in creating snowflake connection: Datasource not found by name RETAIL_DB.CPG_SAP_OTIF_SCHEMA.ENRICHED_ORDER_SHIP\n"
     ]
    }
   ],
   "source": [
    "# To read a specific dataset published from a snowflake connection\n",
    "df = snowflake.get_dataframe(\"RETAIL_DB.CPG_SAP_OTIF_SCHEMA.ENRICHED_ORDER_SHIP\")"
   ]
  },
  {
   "cell_type": "code",
   "execution_count": null,
   "id": "48ec0703",
   "metadata": {},
   "outputs": [],
   "source": [
    "df.shape"
   ]
  },
  {
   "cell_type": "code",
   "execution_count": null,
   "id": "06c31b29",
   "metadata": {},
   "outputs": [],
   "source": [
    "df.info()"
   ]
  },
  {
   "cell_type": "code",
   "execution_count": null,
   "id": "f2c1f789",
   "metadata": {},
   "outputs": [],
   "source": [
    "df.describe()"
   ]
  },
  {
   "cell_type": "code",
   "execution_count": null,
   "id": "20bacbb0",
   "metadata": {},
   "outputs": [],
   "source": [
    "df.tail()"
   ]
  },
  {
   "cell_type": "code",
   "execution_count": null,
   "id": "3f14874e",
   "metadata": {},
   "outputs": [],
   "source": [
    "df.isnull().sum()"
   ]
  },
  {
   "cell_type": "code",
   "execution_count": 8,
   "id": "7de0cce5",
   "metadata": {},
   "outputs": [],
   "source": [
    "cols = ['BACK_ORDER_FLAG','BRAND','CANCEL_FLAG','CHANNEL','CITY','COUNTRY','ITEM_ORDERFILL_FLAG','ITEM_OTQF','ITEM_OTQF_FLAG','OPEN_ORDER_FLAG','BACK_ORDER_FLAG','CANCEL_FLAG','SHIPMENT_ORIGINATION_FACILITY','PRODUCT_TYPE','PACKAGE_TYPE','PRODUCT_TECHNOLOGY','PRODUCT_SUBTECHNOLOGY','PRODUCT_DESIGN_TYPE','PRODUCT_SIZE','SUB_BRAND','OUTLETS','REGION','SHIPMENT_ORIGINATION_FACILITY_TYPE']"
   ]
  },
  {
   "cell_type": "code",
   "execution_count": null,
   "id": "ab0ed88a",
   "metadata": {},
   "outputs": [],
   "source": [
    "for col in cols:\n",
    "    print (\"------------------------------------------------\")\n",
    "    print (col, \" -> \",df[col].nunique())"
   ]
  },
  {
   "cell_type": "code",
   "execution_count": null,
   "id": "0f477d72",
   "metadata": {},
   "outputs": [],
   "source": [
    "for col in cols:\n",
    "    print (\"------------------------------------------------\")\n",
    "    print (col, \" -> \",df[col].value_counts())"
   ]
  }
 ],
 "metadata": {
  "kernelspec": {
   "display_name": "Python 3",
   "language": "python",
   "name": "python3"
  },
  "language_info": {
   "codemirror_mode": {
    "name": "ipython",
    "version": 3
   },
   "file_extension": ".py",
   "mimetype": "text/x-python",
   "name": "python",
   "nbconvert_exporter": "python",
   "pygments_lexer": "ipython3",
   "version": "3.8.18"
  }
 },
 "nbformat": 4,
 "nbformat_minor": 5
}
