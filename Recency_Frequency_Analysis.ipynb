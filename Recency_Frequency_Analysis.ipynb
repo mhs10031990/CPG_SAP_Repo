{
 "cells": [
  {
   "cell_type": "code",
   "execution_count": 1,
   "id": "5143202f",
   "metadata": {},
   "outputs": [
    {
     "name": "stdout",
     "output_type": "stream",
     "text": [
      "Connection manager service url initialised to http://fdc-project-manager:80/project-manager\n",
      "If you need to update its value then update the variable CONNECTION_MANAGER_BASE_URL in os env.\n"
     ]
    }
   ],
   "source": [
    "from fosforio import snowflake"
   ]
  },
  {
   "cell_type": "code",
   "execution_count": 2,
   "id": "39037561",
   "metadata": {},
   "outputs": [
    {
     "name": "stdout",
     "output_type": "stream",
     "text": [
      "User name picked from OS env: manishh.singh@fosfor.com\n",
      "Fetching connections created by manishh.singh@fosfor.com user\n",
      "Connection names fetched ['FDC_SNOWFLAKE', 'FDC_SNOWFLAKE', 'FDC_SNOWFLAKE', 'FDC_Insurance_Snowflake', 'FDC_Banking_FS_Snowflake', 'FDC_Banking_FS_Snowflake', 'FDC_Insurance_Snowflake', 'BFS_LEAD_CONV_CXN'], created by manishh.singh@fosfor.com\n",
      "Exception occurred in getting snowflake connection: 'connectionSources'\n"
     ]
    }
   ],
   "source": [
    "# To get snowflake connection object with a default snowflake connection created by the user, if available.\n",
    "snowflake.get_connection()"
   ]
  },
  {
   "cell_type": "code",
   "execution_count": null,
   "id": "2ce51281",
   "metadata": {},
   "outputs": [],
   "source": [
    "# To read a specific dataset published from a snowflake connection\n",
    "df = snowflake.get_dataframe(\"ENRICHED_ORDER_SHIP\")"
   ]
  },
  {
   "cell_type": "code",
   "execution_count": null,
   "id": "5308928d",
   "metadata": {},
   "outputs": [],
   "source": [
    "df.shape"
   ]
  },
  {
   "cell_type": "code",
   "execution_count": null,
   "id": "b713e89d",
   "metadata": {},
   "outputs": [],
   "source": [
    "df.info()"
   ]
  },
  {
   "cell_type": "code",
   "execution_count": null,
   "id": "01837cb1",
   "metadata": {},
   "outputs": [],
   "source": [
    "df.describe()"
   ]
  },
  {
   "cell_type": "code",
   "execution_count": null,
   "id": "cc809de5",
   "metadata": {},
   "outputs": [],
   "source": [
    "df.tail()"
   ]
  },
  {
   "cell_type": "code",
   "execution_count": null,
   "id": "15b22937",
   "metadata": {},
   "outputs": [],
   "source": [
    "cols = ['SEX','EDUCATION_LEVEL','EMPLOYMENT_STATUS','HOBBIES','MARITAL_STATUS','DEPENDENTS','PURCHASES_FREQUENCY','ONEOFF_PURCHASES_FREQUENCY','PURCHASES_INSTALLMENTS_FREQUENCY']"
   ]
  },
  {
   "cell_type": "code",
   "execution_count": null,
   "id": "352dfe5b",
   "metadata": {},
   "outputs": [],
   "source": [
    "for col in cols:\n",
    "    print (\"------------------------------------------------\")\n",
    "    print (col, \" -> \",df[col].nunique())"
   ]
  },
  {
   "cell_type": "code",
   "execution_count": null,
   "id": "7a7353d3",
   "metadata": {},
   "outputs": [],
   "source": [
    "cols = ['SEX','EDUCATION_LEVEL','EMPLOYMENT_STATUS','HOBBIES','MARITAL_STATUS','DEPENDENTS','PURCHASES_FREQUENCY','ONEOFF_PURCHASES_FREQUENCY','PURCHASES_INSTALLMENTS_FREQUENCY']\n",
    "for col in cols:\n",
    "    print (\"------------------------------------------------\")\n",
    "    print (col, \" -> \",df[col].value_counts())"
   ]
  }
 ],
 "metadata": {
  "kernelspec": {
   "display_name": "Python 3",
   "language": "python",
   "name": "python3"
  },
  "language_info": {
   "codemirror_mode": {
    "name": "ipython",
    "version": 3
   },
   "file_extension": ".py",
   "mimetype": "text/x-python",
   "name": "python",
   "nbconvert_exporter": "python",
   "pygments_lexer": "ipython3",
   "version": "3.8.18"
  }
 },
 "nbformat": 4,
 "nbformat_minor": 5
}
